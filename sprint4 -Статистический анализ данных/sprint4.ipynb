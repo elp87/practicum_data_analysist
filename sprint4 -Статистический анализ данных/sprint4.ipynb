{
 "cells": [
  {
   "cell_type": "markdown",
   "id": "4a424c55",
   "metadata": {},
   "source": [
    "# Проект: Статистический анализ данных #"
   ]
  },
  {
   "cell_type": "markdown",
   "id": "8605d721",
   "metadata": {},
   "source": [
    "Аналитика популярного сервиса аренды самокатов GoFast. Имеем данные о некоторых пользователях из нескольких городов, а также об их поездках. Необходимо проанализировать данные и проверить некоторые гипотезы, которые могут помочь бизнесу вырасти.\n",
    "\n",
    "Чтобы совершать поездки по городу, пользователи сервиса GoFast пользуются мобильным приложением. Сервисом можно пользоваться:\n",
    "1. без подписки\n",
    "* абонентская плата отсутствует;\n",
    "* стоимость одной минуты поездки — 8 рублей;\n",
    "* стоимость старта (начала поездки) — 50 рублей;\n",
    "2. с подпиской Ultra\n",
    "* абонентская плата — 199 рублей в месяц;\n",
    "* стоимость одной минуты поездки — 6 рублей;\n",
    "* стоимость старта — бесплатно."
   ]
  },
  {
   "cell_type": "markdown",
   "id": "4792eff2",
   "metadata": {},
   "source": [
    "Описание данных:\n",
    "1. `users_go.csv`\n",
    "    * `user_id` - уникальный идентификатор пользователя\n",
    "    * `name` - имя пользователя\n",
    "    * `age` - возраст\n",
    "    * `city` - город\n",
    "    * `subscription_type` - тип подписки (free, ultra)\n",
    "2. `rides_go.csv`\n",
    "    * `user_id` - уникальный идентификатор пользователя\n",
    "    * `distance` - расстояние, которое пользователь проехал в текущей сессии (в метрах)\n",
    "    * `duration` - продолжительность сессии (в минутах) — время с того момента, как пользователь нажал кнопку «Начать поездку» до момента, как он нажал кнопку «Завершить поездку»\n",
    "    * `date` - дата совершения поездки\n",
    "3. `subscriptions_go.csv`\n",
    "    * `subscription_type` - тип подписки\n",
    "    * `minute_price` - стоимость одной минуты поездки по данной подписке\n",
    "    * `start_ride_price` - стоимость начала поездки\n",
    "    * `subscription_fee` - стоимость ежемесячного платежа"
   ]
  },
  {
   "cell_type": "code",
   "execution_count": 1,
   "id": "72576667",
   "metadata": {},
   "outputs": [],
   "source": [
    "import pandas as pd\n",
    "import numpy as np\n",
    "import scipy.stats as st\n",
    "from matplotlib import pyplot as plt\n",
    "from math import factorial"
   ]
  },
  {
   "cell_type": "markdown",
   "id": "c42cbe00",
   "metadata": {},
   "source": [
    "#### Шаг 1. Загрузка данных"
   ]
  },
  {
   "cell_type": "code",
   "execution_count": 2,
   "id": "eff9f206",
   "metadata": {},
   "outputs": [],
   "source": [
    "try:\n",
    "    users_df = pd.read_csv('users_go.csv')\n",
    "except:\n",
    "    users_df = pd.read_csv('****')"
   ]
  },
  {
   "cell_type": "code",
   "execution_count": 3,
   "id": "fecd7280",
   "metadata": {},
   "outputs": [],
   "source": [
    "try:\n",
    "    rides_df = pd.read_csv('rides_go.csv')\n",
    "except:\n",
    "    rides_df = pd.read_csv('****')"
   ]
  },
  {
   "cell_type": "code",
   "execution_count": 4,
   "id": "2dd6ce9d",
   "metadata": {},
   "outputs": [],
   "source": [
    "try:\n",
    "    subscriptions_df = pd.read_csv('subscriptions_go.csv')\n",
    "except:\n",
    "    subscriptions_df = pd.read_csv('****')"
   ]
  },
  {
   "cell_type": "markdown",
   "id": "f2febcb2",
   "metadata": {},
   "source": [
    "Просмотрим каждый из датафреймов"
   ]
  },
  {
   "cell_type": "code",
   "execution_count": 5,
   "id": "54c471d1",
   "metadata": {},
   "outputs": [
    {
     "data": {
      "text/html": [
       "<div>\n",
       "<style scoped>\n",
       "    .dataframe tbody tr th:only-of-type {\n",
       "        vertical-align: middle;\n",
       "    }\n",
       "\n",
       "    .dataframe tbody tr th {\n",
       "        vertical-align: top;\n",
       "    }\n",
       "\n",
       "    .dataframe thead th {\n",
       "        text-align: right;\n",
       "    }\n",
       "</style>\n",
       "<table border=\"1\" class=\"dataframe\">\n",
       "  <thead>\n",
       "    <tr style=\"text-align: right;\">\n",
       "      <th></th>\n",
       "      <th>user_id</th>\n",
       "      <th>name</th>\n",
       "      <th>age</th>\n",
       "      <th>city</th>\n",
       "      <th>subscription_type</th>\n",
       "    </tr>\n",
       "  </thead>\n",
       "  <tbody>\n",
       "    <tr>\n",
       "      <th>0</th>\n",
       "      <td>1</td>\n",
       "      <td>Кира</td>\n",
       "      <td>22</td>\n",
       "      <td>Тюмень</td>\n",
       "      <td>ultra</td>\n",
       "    </tr>\n",
       "    <tr>\n",
       "      <th>1</th>\n",
       "      <td>2</td>\n",
       "      <td>Станислав</td>\n",
       "      <td>31</td>\n",
       "      <td>Омск</td>\n",
       "      <td>ultra</td>\n",
       "    </tr>\n",
       "    <tr>\n",
       "      <th>2</th>\n",
       "      <td>3</td>\n",
       "      <td>Алексей</td>\n",
       "      <td>20</td>\n",
       "      <td>Москва</td>\n",
       "      <td>ultra</td>\n",
       "    </tr>\n",
       "    <tr>\n",
       "      <th>3</th>\n",
       "      <td>4</td>\n",
       "      <td>Константин</td>\n",
       "      <td>26</td>\n",
       "      <td>Ростов-на-Дону</td>\n",
       "      <td>ultra</td>\n",
       "    </tr>\n",
       "    <tr>\n",
       "      <th>4</th>\n",
       "      <td>5</td>\n",
       "      <td>Адель</td>\n",
       "      <td>28</td>\n",
       "      <td>Омск</td>\n",
       "      <td>ultra</td>\n",
       "    </tr>\n",
       "  </tbody>\n",
       "</table>\n",
       "</div>"
      ],
      "text/plain": [
       "   user_id        name  age            city subscription_type\n",
       "0        1        Кира   22          Тюмень             ultra\n",
       "1        2   Станислав   31            Омск             ultra\n",
       "2        3     Алексей   20          Москва             ultra\n",
       "3        4  Константин   26  Ростов-на-Дону             ultra\n",
       "4        5       Адель   28            Омск             ultra"
      ]
     },
     "execution_count": 5,
     "metadata": {},
     "output_type": "execute_result"
    }
   ],
   "source": [
    "users_df.head()"
   ]
  },
  {
   "cell_type": "code",
   "execution_count": 6,
   "id": "9ab637f5",
   "metadata": {},
   "outputs": [
    {
     "name": "stdout",
     "output_type": "stream",
     "text": [
      "<class 'pandas.core.frame.DataFrame'>\n",
      "RangeIndex: 1565 entries, 0 to 1564\n",
      "Data columns (total 5 columns):\n",
      " #   Column             Non-Null Count  Dtype \n",
      "---  ------             --------------  ----- \n",
      " 0   user_id            1565 non-null   int64 \n",
      " 1   name               1565 non-null   object\n",
      " 2   age                1565 non-null   int64 \n",
      " 3   city               1565 non-null   object\n",
      " 4   subscription_type  1565 non-null   object\n",
      "dtypes: int64(2), object(3)\n",
      "memory usage: 61.3+ KB\n"
     ]
    }
   ],
   "source": [
    "users_df.info()"
   ]
  },
  {
   "cell_type": "code",
   "execution_count": 7,
   "id": "55d9ab73",
   "metadata": {},
   "outputs": [
    {
     "data": {
      "text/html": [
       "<div>\n",
       "<style scoped>\n",
       "    .dataframe tbody tr th:only-of-type {\n",
       "        vertical-align: middle;\n",
       "    }\n",
       "\n",
       "    .dataframe tbody tr th {\n",
       "        vertical-align: top;\n",
       "    }\n",
       "\n",
       "    .dataframe thead th {\n",
       "        text-align: right;\n",
       "    }\n",
       "</style>\n",
       "<table border=\"1\" class=\"dataframe\">\n",
       "  <thead>\n",
       "    <tr style=\"text-align: right;\">\n",
       "      <th></th>\n",
       "      <th>user_id</th>\n",
       "      <th>distance</th>\n",
       "      <th>duration</th>\n",
       "      <th>date</th>\n",
       "    </tr>\n",
       "  </thead>\n",
       "  <tbody>\n",
       "    <tr>\n",
       "      <th>0</th>\n",
       "      <td>1</td>\n",
       "      <td>4409.919140</td>\n",
       "      <td>25.599769</td>\n",
       "      <td>2021-01-01</td>\n",
       "    </tr>\n",
       "    <tr>\n",
       "      <th>1</th>\n",
       "      <td>1</td>\n",
       "      <td>2617.592153</td>\n",
       "      <td>15.816871</td>\n",
       "      <td>2021-01-18</td>\n",
       "    </tr>\n",
       "    <tr>\n",
       "      <th>2</th>\n",
       "      <td>1</td>\n",
       "      <td>754.159807</td>\n",
       "      <td>6.232113</td>\n",
       "      <td>2021-04-20</td>\n",
       "    </tr>\n",
       "    <tr>\n",
       "      <th>3</th>\n",
       "      <td>1</td>\n",
       "      <td>2694.783254</td>\n",
       "      <td>18.511000</td>\n",
       "      <td>2021-08-11</td>\n",
       "    </tr>\n",
       "    <tr>\n",
       "      <th>4</th>\n",
       "      <td>1</td>\n",
       "      <td>4028.687306</td>\n",
       "      <td>26.265803</td>\n",
       "      <td>2021-08-28</td>\n",
       "    </tr>\n",
       "  </tbody>\n",
       "</table>\n",
       "</div>"
      ],
      "text/plain": [
       "   user_id     distance   duration        date\n",
       "0        1  4409.919140  25.599769  2021-01-01\n",
       "1        1  2617.592153  15.816871  2021-01-18\n",
       "2        1   754.159807   6.232113  2021-04-20\n",
       "3        1  2694.783254  18.511000  2021-08-11\n",
       "4        1  4028.687306  26.265803  2021-08-28"
      ]
     },
     "execution_count": 7,
     "metadata": {},
     "output_type": "execute_result"
    }
   ],
   "source": [
    "rides_df.head()"
   ]
  },
  {
   "cell_type": "code",
   "execution_count": 8,
   "id": "5870bae4",
   "metadata": {},
   "outputs": [
    {
     "name": "stdout",
     "output_type": "stream",
     "text": [
      "<class 'pandas.core.frame.DataFrame'>\n",
      "RangeIndex: 18068 entries, 0 to 18067\n",
      "Data columns (total 4 columns):\n",
      " #   Column    Non-Null Count  Dtype  \n",
      "---  ------    --------------  -----  \n",
      " 0   user_id   18068 non-null  int64  \n",
      " 1   distance  18068 non-null  float64\n",
      " 2   duration  18068 non-null  float64\n",
      " 3   date      18068 non-null  object \n",
      "dtypes: float64(2), int64(1), object(1)\n",
      "memory usage: 564.8+ KB\n"
     ]
    }
   ],
   "source": [
    "rides_df.info()"
   ]
  },
  {
   "cell_type": "code",
   "execution_count": 9,
   "id": "5a6ace40",
   "metadata": {},
   "outputs": [
    {
     "data": {
      "text/html": [
       "<div>\n",
       "<style scoped>\n",
       "    .dataframe tbody tr th:only-of-type {\n",
       "        vertical-align: middle;\n",
       "    }\n",
       "\n",
       "    .dataframe tbody tr th {\n",
       "        vertical-align: top;\n",
       "    }\n",
       "\n",
       "    .dataframe thead th {\n",
       "        text-align: right;\n",
       "    }\n",
       "</style>\n",
       "<table border=\"1\" class=\"dataframe\">\n",
       "  <thead>\n",
       "    <tr style=\"text-align: right;\">\n",
       "      <th></th>\n",
       "      <th>subscription_type</th>\n",
       "      <th>minute_price</th>\n",
       "      <th>start_ride_price</th>\n",
       "      <th>subscription_fee</th>\n",
       "    </tr>\n",
       "  </thead>\n",
       "  <tbody>\n",
       "    <tr>\n",
       "      <th>0</th>\n",
       "      <td>free</td>\n",
       "      <td>8</td>\n",
       "      <td>50</td>\n",
       "      <td>0</td>\n",
       "    </tr>\n",
       "    <tr>\n",
       "      <th>1</th>\n",
       "      <td>ultra</td>\n",
       "      <td>6</td>\n",
       "      <td>0</td>\n",
       "      <td>199</td>\n",
       "    </tr>\n",
       "  </tbody>\n",
       "</table>\n",
       "</div>"
      ],
      "text/plain": [
       "  subscription_type  minute_price  start_ride_price  subscription_fee\n",
       "0              free             8                50                 0\n",
       "1             ultra             6                 0               199"
      ]
     },
     "execution_count": 9,
     "metadata": {},
     "output_type": "execute_result"
    }
   ],
   "source": [
    "subscriptions_df.head()"
   ]
  },
  {
   "cell_type": "code",
   "execution_count": 10,
   "id": "998efd05",
   "metadata": {},
   "outputs": [
    {
     "name": "stdout",
     "output_type": "stream",
     "text": [
      "<class 'pandas.core.frame.DataFrame'>\n",
      "RangeIndex: 2 entries, 0 to 1\n",
      "Data columns (total 4 columns):\n",
      " #   Column             Non-Null Count  Dtype \n",
      "---  ------             --------------  ----- \n",
      " 0   subscription_type  2 non-null      object\n",
      " 1   minute_price       2 non-null      int64 \n",
      " 2   start_ride_price   2 non-null      int64 \n",
      " 3   subscription_fee   2 non-null      int64 \n",
      "dtypes: int64(3), object(1)\n",
      "memory usage: 192.0+ bytes\n"
     ]
    }
   ],
   "source": [
    "subscriptions_df.info()"
   ]
  },
  {
   "cell_type": "markdown",
   "id": "892c5985",
   "metadata": {},
   "source": [
    "**Вывод** Успешно загружены 3 датафрейма\n",
    "* users_df - содержит инфрмацию о пользователях: имя, возраст, город и тип подписки\n",
    "* rides_df - содержит информацию о поездках польщзователей: id пользователя, расстояние, продолжительность поездки и дату\n",
    "* subscriptions_df - содержит тарифную информацию о подписах: ежемесячную плату, стоиость  старта и стоимость минуты поездки"
   ]
  },
  {
   "cell_type": "markdown",
   "id": "e95ebca7",
   "metadata": {},
   "source": [
    "#### Шаг 2. Предобработка данных"
   ]
  },
  {
   "cell_type": "markdown",
   "id": "9b269bd4",
   "metadata": {},
   "source": [
    "Проверим датафреймы на наличие пропущенных значений"
   ]
  },
  {
   "cell_type": "code",
   "execution_count": 11,
   "id": "af6d202c",
   "metadata": {},
   "outputs": [
    {
     "data": {
      "text/plain": [
       "user_id              0.0\n",
       "name                 0.0\n",
       "age                  0.0\n",
       "city                 0.0\n",
       "subscription_type    0.0\n",
       "dtype: float64"
      ]
     },
     "execution_count": 11,
     "metadata": {},
     "output_type": "execute_result"
    }
   ],
   "source": [
    "users_df.isna().mean()"
   ]
  },
  {
   "cell_type": "code",
   "execution_count": 12,
   "id": "fb5eafb2",
   "metadata": {},
   "outputs": [
    {
     "data": {
      "text/plain": [
       "user_id     0.0\n",
       "distance    0.0\n",
       "duration    0.0\n",
       "date        0.0\n",
       "dtype: float64"
      ]
     },
     "execution_count": 12,
     "metadata": {},
     "output_type": "execute_result"
    }
   ],
   "source": [
    "rides_df.isna().mean()"
   ]
  },
  {
   "cell_type": "code",
   "execution_count": 13,
   "id": "fc2f65f0",
   "metadata": {},
   "outputs": [
    {
     "data": {
      "text/plain": [
       "subscription_type    0.0\n",
       "minute_price         0.0\n",
       "start_ride_price     0.0\n",
       "subscription_fee     0.0\n",
       "dtype: float64"
      ]
     },
     "execution_count": 13,
     "metadata": {},
     "output_type": "execute_result"
    }
   ],
   "source": [
    "subscriptions_df.isna().mean()"
   ]
  },
  {
   "cell_type": "markdown",
   "id": "6422409e",
   "metadata": {},
   "source": [
    "Видим, что пропущенные знаения в датафреймах отсутствуют"
   ]
  },
  {
   "cell_type": "markdown",
   "id": "cb8f7bf6",
   "metadata": {},
   "source": [
    "В датафрейме `rides_df` столбец `date` приветем к типу `date` и создадим новый столбец `month` с номером месяца"
   ]
  },
  {
   "cell_type": "code",
   "execution_count": 14,
   "id": "dad97e19",
   "metadata": {},
   "outputs": [],
   "source": [
    "# 2021-01-01\n",
    "rides_df['date'] = pd.to_datetime(rides_df['date'], format='%Y-%m-%d')"
   ]
  },
  {
   "cell_type": "code",
   "execution_count": 15,
   "id": "0e346584",
   "metadata": {},
   "outputs": [],
   "source": [
    "rides_df['month'] = rides_df['date'].dt.month"
   ]
  },
  {
   "cell_type": "code",
   "execution_count": 16,
   "id": "1715aae7",
   "metadata": {},
   "outputs": [
    {
     "data": {
      "text/html": [
       "<div>\n",
       "<style scoped>\n",
       "    .dataframe tbody tr th:only-of-type {\n",
       "        vertical-align: middle;\n",
       "    }\n",
       "\n",
       "    .dataframe tbody tr th {\n",
       "        vertical-align: top;\n",
       "    }\n",
       "\n",
       "    .dataframe thead th {\n",
       "        text-align: right;\n",
       "    }\n",
       "</style>\n",
       "<table border=\"1\" class=\"dataframe\">\n",
       "  <thead>\n",
       "    <tr style=\"text-align: right;\">\n",
       "      <th></th>\n",
       "      <th>user_id</th>\n",
       "      <th>distance</th>\n",
       "      <th>duration</th>\n",
       "      <th>date</th>\n",
       "      <th>month</th>\n",
       "    </tr>\n",
       "  </thead>\n",
       "  <tbody>\n",
       "    <tr>\n",
       "      <th>0</th>\n",
       "      <td>1</td>\n",
       "      <td>4409.919140</td>\n",
       "      <td>25.599769</td>\n",
       "      <td>2021-01-01</td>\n",
       "      <td>1</td>\n",
       "    </tr>\n",
       "    <tr>\n",
       "      <th>1</th>\n",
       "      <td>1</td>\n",
       "      <td>2617.592153</td>\n",
       "      <td>15.816871</td>\n",
       "      <td>2021-01-18</td>\n",
       "      <td>1</td>\n",
       "    </tr>\n",
       "    <tr>\n",
       "      <th>2</th>\n",
       "      <td>1</td>\n",
       "      <td>754.159807</td>\n",
       "      <td>6.232113</td>\n",
       "      <td>2021-04-20</td>\n",
       "      <td>4</td>\n",
       "    </tr>\n",
       "    <tr>\n",
       "      <th>3</th>\n",
       "      <td>1</td>\n",
       "      <td>2694.783254</td>\n",
       "      <td>18.511000</td>\n",
       "      <td>2021-08-11</td>\n",
       "      <td>8</td>\n",
       "    </tr>\n",
       "    <tr>\n",
       "      <th>4</th>\n",
       "      <td>1</td>\n",
       "      <td>4028.687306</td>\n",
       "      <td>26.265803</td>\n",
       "      <td>2021-08-28</td>\n",
       "      <td>8</td>\n",
       "    </tr>\n",
       "  </tbody>\n",
       "</table>\n",
       "</div>"
      ],
      "text/plain": [
       "   user_id     distance   duration       date  month\n",
       "0        1  4409.919140  25.599769 2021-01-01      1\n",
       "1        1  2617.592153  15.816871 2021-01-18      1\n",
       "2        1   754.159807   6.232113 2021-04-20      4\n",
       "3        1  2694.783254  18.511000 2021-08-11      8\n",
       "4        1  4028.687306  26.265803 2021-08-28      8"
      ]
     },
     "execution_count": 16,
     "metadata": {},
     "output_type": "execute_result"
    }
   ],
   "source": [
    "rides_df.head()"
   ]
  },
  {
   "cell_type": "code",
   "execution_count": 17,
   "id": "3f58698c",
   "metadata": {},
   "outputs": [
    {
     "name": "stdout",
     "output_type": "stream",
     "text": [
      "<class 'pandas.core.frame.DataFrame'>\n",
      "RangeIndex: 18068 entries, 0 to 18067\n",
      "Data columns (total 5 columns):\n",
      " #   Column    Non-Null Count  Dtype         \n",
      "---  ------    --------------  -----         \n",
      " 0   user_id   18068 non-null  int64         \n",
      " 1   distance  18068 non-null  float64       \n",
      " 2   duration  18068 non-null  float64       \n",
      " 3   date      18068 non-null  datetime64[ns]\n",
      " 4   month     18068 non-null  int64         \n",
      "dtypes: datetime64[ns](1), float64(2), int64(2)\n",
      "memory usage: 705.9 KB\n"
     ]
    }
   ],
   "source": [
    "rides_df.info()"
   ]
  },
  {
   "cell_type": "markdown",
   "id": "df5952cf",
   "metadata": {},
   "source": [
    "Проверим датафреймы на дубликаты\n",
    "\n",
    "Если в датафрейме `users_df` мы найдём записи с одинаковыми значениями имени, возраста и города, мы не можем говорить, что это  дубликаты. Это могут быть разные люди с одними данными, поэтому скрытые дубликаты не ищем. Найдём явные дубликаты"
   ]
  },
  {
   "cell_type": "code",
   "execution_count": 18,
   "id": "f0a35172",
   "metadata": {},
   "outputs": [
    {
     "data": {
      "text/plain": [
       "31"
      ]
     },
     "execution_count": 18,
     "metadata": {},
     "output_type": "execute_result"
    }
   ],
   "source": [
    "users_df.duplicated().sum()"
   ]
  },
  {
   "cell_type": "markdown",
   "id": "c52cbdde",
   "metadata": {},
   "source": [
    "Найдена 31 повторяющаяся запись. Удалим их"
   ]
  },
  {
   "cell_type": "code",
   "execution_count": 19,
   "id": "67d08142",
   "metadata": {},
   "outputs": [],
   "source": [
    "users_df = users_df.drop_duplicates(keep='first')\n",
    "users_df = users_df.reset_index(drop=True)"
   ]
  },
  {
   "cell_type": "code",
   "execution_count": 20,
   "id": "822135cc",
   "metadata": {},
   "outputs": [
    {
     "data": {
      "text/plain": [
       "0"
      ]
     },
     "execution_count": 20,
     "metadata": {},
     "output_type": "execute_result"
    }
   ],
   "source": [
    "users_df.duplicated().sum()"
   ]
  },
  {
   "cell_type": "markdown",
   "id": "186dece8",
   "metadata": {},
   "source": [
    "Найдём дубликаты в датафрейме `rides_df`"
   ]
  },
  {
   "cell_type": "code",
   "execution_count": 21,
   "id": "6d4c2f68",
   "metadata": {},
   "outputs": [
    {
     "data": {
      "text/plain": [
       "0"
      ]
     },
     "execution_count": 21,
     "metadata": {},
     "output_type": "execute_result"
    }
   ],
   "source": [
    "rides_df.duplicated().sum()"
   ]
  },
  {
   "cell_type": "code",
   "execution_count": 22,
   "id": "1a26d193",
   "metadata": {},
   "outputs": [
    {
     "data": {
      "text/plain": [
       "741.545359     1\n",
       "4158.226381    1\n",
       "3672.118870    1\n",
       "4533.004089    1\n",
       "2437.274120    1\n",
       "              ..\n",
       "2949.530545    1\n",
       "3289.893471    1\n",
       "3047.554085    1\n",
       "2931.718067    1\n",
       "4031.935032    1\n",
       "Name: distance, Length: 18068, dtype: int64"
      ]
     },
     "execution_count": 22,
     "metadata": {},
     "output_type": "execute_result"
    }
   ],
   "source": [
    "rides_df['distance'].value_counts()"
   ]
  },
  {
   "cell_type": "markdown",
   "id": "e9058afa",
   "metadata": {},
   "source": [
    "В датафрейме `rides_df` дубликаты отсутствуют.\n",
    "\n",
    "В датафреёме `subscriptions_df` дубликаты отсутствуют по определению - там всего 2 записи"
   ]
  },
  {
   "cell_type": "markdown",
   "id": "cc250e3c",
   "metadata": {},
   "source": [
    "**Выводы.** В датафреймах пропущенные знаения  отсутствуют. В датафрейме `rides_df` столбец `date` привели к типу `date` и создадили новый столбец `month` с номером месяца. В датафрейме `users_df` удалили повторяющиеся записи, в остальных датафреймах дубликаты отсутствуют"
   ]
  },
  {
   "cell_type": "markdown",
   "id": "212593c7",
   "metadata": {},
   "source": [
    "#### Шаг 3. Исследовательский анализ данных"
   ]
  },
  {
   "cell_type": "markdown",
   "id": "e43f590e",
   "metadata": {},
   "source": [
    "**Опишем и визуализируем частоту встречаемости городов**"
   ]
  },
  {
   "cell_type": "code",
   "execution_count": 23,
   "id": "6b34182d",
   "metadata": {},
   "outputs": [
    {
     "data": {
      "text/plain": [
       "Пятигорск         219\n",
       "Екатеринбург      204\n",
       "Ростов-на-Дону    198\n",
       "Краснодар         193\n",
       "Сочи              189\n",
       "Омск              183\n",
       "Тюмень            180\n",
       "Москва            168\n",
       "Name: city, dtype: int64"
      ]
     },
     "execution_count": 23,
     "metadata": {},
     "output_type": "execute_result"
    }
   ],
   "source": [
    "user_city_pivot = users_df['city'].value_counts()\n",
    "user_city_pivot"
   ]
  },
  {
   "cell_type": "code",
   "execution_count": 24,
   "id": "abd2164d",
   "metadata": {},
   "outputs": [
    {
     "data": {
      "image/png": "[encoded data removed]",
      "text/plain": [
       "<Figure size 720x360 with 1 Axes>"
      ]
     },
     "metadata": {
      "needs_background": "light"
     },
     "output_type": "display_data"
    }
   ],
   "source": [
    "user_city_pivot.plot.bar(figsize=(10,5))\n",
    "plt.title('Частота встречаемости городов')\n",
    "plt.xlabel('города')\n",
    "plt.ylabel('частота')\n",
    "plt.show()"
   ]
  },
  {
   "cell_type": "markdown",
   "id": "2c9ff484",
   "metadata": {},
   "source": [
    "**Вывод** Больше всего пользователей в Пятигорске, Екатеринбурге и Ростове-на-Дону. Меньше - в Москве, Тюмени и Омске"
   ]
  },
  {
   "cell_type": "markdown",
   "id": "35f99c04",
   "metadata": {},
   "source": [
    "**Опишем и визуализируем соотношение пользователей с подпиской и без подписки**"
   ]
  },
  {
   "cell_type": "code",
   "execution_count": 25,
   "id": "07855612",
   "metadata": {},
   "outputs": [
    {
     "data": {
      "text/plain": [
       "free     54.432855\n",
       "ultra    45.567145\n",
       "Name: subscription_type, dtype: float64"
      ]
     },
     "execution_count": 25,
     "metadata": {},
     "output_type": "execute_result"
    }
   ],
   "source": [
    "user_plan_pivot = users_df['subscription_type'].value_counts() / len(users_df) * 100\n",
    "user_plan_pivot"
   ]
  },
  {
   "cell_type": "code",
   "execution_count": 26,
   "id": "67c9ae31",
   "metadata": {},
   "outputs": [
    {
     "data": {
      "image/png": "[encoded data removed]",
      "text/plain": [
       "<Figure size 432x288 with 1 Axes>"
      ]
     },
     "metadata": {},
     "output_type": "display_data"
    }
   ],
   "source": [
    "user_plan_pivot.plot.pie(autopct='%1.2f%%')\n",
    "plt.title(' Соотношение пользователей с подпиской и без подписки')\n",
    "plt.ylabel('тип подписки')\n",
    "plt.show()"
   ]
  },
  {
   "cell_type": "markdown",
   "id": "4d4fff3a",
   "metadata": {},
   "source": [
    "**Вывод** Видим, что пользователей с бесплатной подпиской немного больше.Их примерно 55%"
   ]
  },
  {
   "cell_type": "markdown",
   "id": "c23fe845",
   "metadata": {},
   "source": [
    "**Опишем и визуализируем возраст пользователей**"
   ]
  },
  {
   "cell_type": "code",
   "execution_count": 27,
   "id": "2d82c676",
   "metadata": {},
   "outputs": [
    {
     "data": {
      "text/html": [
       "<div>\n",
       "<style scoped>\n",
       "    .dataframe tbody tr th:only-of-type {\n",
       "        vertical-align: middle;\n",
       "    }\n",
       "\n",
       "    .dataframe tbody tr th {\n",
       "        vertical-align: top;\n",
       "    }\n",
       "\n",
       "    .dataframe thead th {\n",
       "        text-align: right;\n",
       "    }\n",
       "</style>\n",
       "<table border=\"1\" class=\"dataframe\">\n",
       "  <thead>\n",
       "    <tr style=\"text-align: right;\">\n",
       "      <th></th>\n",
       "      <th>user_id</th>\n",
       "    </tr>\n",
       "    <tr>\n",
       "      <th>age</th>\n",
       "      <th></th>\n",
       "    </tr>\n",
       "  </thead>\n",
       "  <tbody>\n",
       "    <tr>\n",
       "      <th>12</th>\n",
       "      <td>4</td>\n",
       "    </tr>\n",
       "    <tr>\n",
       "      <th>13</th>\n",
       "      <td>8</td>\n",
       "    </tr>\n",
       "    <tr>\n",
       "      <th>14</th>\n",
       "      <td>9</td>\n",
       "    </tr>\n",
       "    <tr>\n",
       "      <th>15</th>\n",
       "      <td>13</td>\n",
       "    </tr>\n",
       "    <tr>\n",
       "      <th>16</th>\n",
       "      <td>19</td>\n",
       "    </tr>\n",
       "    <tr>\n",
       "      <th>17</th>\n",
       "      <td>26</td>\n",
       "    </tr>\n",
       "    <tr>\n",
       "      <th>18</th>\n",
       "      <td>46</td>\n",
       "    </tr>\n",
       "    <tr>\n",
       "      <th>19</th>\n",
       "      <td>47</td>\n",
       "    </tr>\n",
       "    <tr>\n",
       "      <th>20</th>\n",
       "      <td>71</td>\n",
       "    </tr>\n",
       "    <tr>\n",
       "      <th>21</th>\n",
       "      <td>93</td>\n",
       "    </tr>\n",
       "    <tr>\n",
       "      <th>22</th>\n",
       "      <td>119</td>\n",
       "    </tr>\n",
       "    <tr>\n",
       "      <th>23</th>\n",
       "      <td>129</td>\n",
       "    </tr>\n",
       "    <tr>\n",
       "      <th>24</th>\n",
       "      <td>132</td>\n",
       "    </tr>\n",
       "    <tr>\n",
       "      <th>25</th>\n",
       "      <td>145</td>\n",
       "    </tr>\n",
       "    <tr>\n",
       "      <th>26</th>\n",
       "      <td>131</td>\n",
       "    </tr>\n",
       "    <tr>\n",
       "      <th>27</th>\n",
       "      <td>119</td>\n",
       "    </tr>\n",
       "    <tr>\n",
       "      <th>28</th>\n",
       "      <td>112</td>\n",
       "    </tr>\n",
       "    <tr>\n",
       "      <th>29</th>\n",
       "      <td>68</td>\n",
       "    </tr>\n",
       "    <tr>\n",
       "      <th>30</th>\n",
       "      <td>68</td>\n",
       "    </tr>\n",
       "    <tr>\n",
       "      <th>31</th>\n",
       "      <td>48</td>\n",
       "    </tr>\n",
       "    <tr>\n",
       "      <th>32</th>\n",
       "      <td>41</td>\n",
       "    </tr>\n",
       "    <tr>\n",
       "      <th>33</th>\n",
       "      <td>39</td>\n",
       "    </tr>\n",
       "    <tr>\n",
       "      <th>34</th>\n",
       "      <td>19</td>\n",
       "    </tr>\n",
       "    <tr>\n",
       "      <th>35</th>\n",
       "      <td>15</td>\n",
       "    </tr>\n",
       "    <tr>\n",
       "      <th>36</th>\n",
       "      <td>6</td>\n",
       "    </tr>\n",
       "    <tr>\n",
       "      <th>37</th>\n",
       "      <td>2</td>\n",
       "    </tr>\n",
       "    <tr>\n",
       "      <th>38</th>\n",
       "      <td>3</td>\n",
       "    </tr>\n",
       "    <tr>\n",
       "      <th>39</th>\n",
       "      <td>1</td>\n",
       "    </tr>\n",
       "    <tr>\n",
       "      <th>43</th>\n",
       "      <td>1</td>\n",
       "    </tr>\n",
       "  </tbody>\n",
       "</table>\n",
       "</div>"
      ],
      "text/plain": [
       "     user_id\n",
       "age         \n",
       "12         4\n",
       "13         8\n",
       "14         9\n",
       "15        13\n",
       "16        19\n",
       "17        26\n",
       "18        46\n",
       "19        47\n",
       "20        71\n",
       "21        93\n",
       "22       119\n",
       "23       129\n",
       "24       132\n",
       "25       145\n",
       "26       131\n",
       "27       119\n",
       "28       112\n",
       "29        68\n",
       "30        68\n",
       "31        48\n",
       "32        41\n",
       "33        39\n",
       "34        19\n",
       "35        15\n",
       "36         6\n",
       "37         2\n",
       "38         3\n",
       "39         1\n",
       "43         1"
      ]
     },
     "execution_count": 27,
     "metadata": {},
     "output_type": "execute_result"
    }
   ],
   "source": [
    "user_age_pivot = users_df.pivot_table(index='age', values='user_id', aggfunc='count')\n",
    "user_age_pivot"
   ]
  },
  {
   "cell_type": "code",
   "execution_count": 28,
   "id": "6f446553",
   "metadata": {},
   "outputs": [
    {
     "data": {
      "image/png": "[encoded data removed]",
      "text/plain": [
       "<Figure size 720x360 with 1 Axes>"
      ]
     },
     "metadata": {
      "needs_background": "light"
     },
     "output_type": "display_data"
    }
   ],
   "source": [
    "user_age_pivot.plot.bar(figsize=(10,5), legend=False);\n",
    "plt.title('Распределение возраста пользователей')\n",
    "plt.xlabel('возраст')\n",
    "plt.ylabel('частота')\n",
    "plt.show()"
   ]
  },
  {
   "cell_type": "code",
   "execution_count": 29,
   "id": "6a8f9965",
   "metadata": {},
   "outputs": [
    {
     "data": {
      "text/plain": [
       "count    1534.000000\n",
       "mean       24.903520\n",
       "std         4.572367\n",
       "min        12.000000\n",
       "25%        22.000000\n",
       "50%        25.000000\n",
       "75%        28.000000\n",
       "max        43.000000\n",
       "Name: age, dtype: float64"
      ]
     },
     "execution_count": 29,
     "metadata": {},
     "output_type": "execute_result"
    }
   ],
   "source": [
    "users_df['age'].describe()"
   ]
  },
  {
   "cell_type": "markdown",
   "id": "6de4effc",
   "metadata": {},
   "source": [
    "**Вывод** И средний, и медианный возраст пользователей - 25 лет. По графику видим, что мода так же равна - 25"
   ]
  },
  {
   "cell_type": "markdown",
   "id": "261b54b7",
   "metadata": {},
   "source": [
    "**Опишем и визуализируем расстояние поездки**"
   ]
  },
  {
   "cell_type": "code",
   "execution_count": 30,
   "id": "b2fcdd73",
   "metadata": {},
   "outputs": [
    {
     "data": {
      "text/plain": [
       "count    18068.000000\n",
       "mean      3070.659976\n",
       "std       1116.831209\n",
       "min          0.855683\n",
       "25%       2543.226360\n",
       "50%       3133.609994\n",
       "75%       3776.222735\n",
       "max       7211.007745\n",
       "Name: distance, dtype: float64"
      ]
     },
     "execution_count": 30,
     "metadata": {},
     "output_type": "execute_result"
    }
   ],
   "source": [
    "rides_df['distance'].describe()"
   ]
  },
  {
   "cell_type": "code",
   "execution_count": 31,
   "id": "cde8a478",
   "metadata": {},
   "outputs": [
    {
     "data": {
      "image/png": "[encoded data removed]",
      "text/plain": [
       "<Figure size 720x360 with 1 Axes>"
      ]
     },
     "metadata": {
      "needs_background": "light"
     },
     "output_type": "display_data"
    }
   ],
   "source": [
    "rides_df['distance'].hist(bins=100, figsize=(10,5));\n",
    "plt.title('Распределение дальности поездки')\n",
    "plt.xlabel('дальность')\n",
    "plt.ylabel('частота')\n",
    "plt.show()"
   ]
  },
  {
   "cell_type": "markdown",
   "id": "0fbcea8e",
   "metadata": {},
   "source": [
    "**Вывод** Среднее и медианное значение расстояния одной поездки ~3100м"
   ]
  },
  {
   "cell_type": "markdown",
   "id": "3e0bc4c2",
   "metadata": {},
   "source": [
    "Дополнительно рассмотрим пик слева на промежутке  0-1500м\n",
    "\n",
    "Сначала добавим столбец скорость `speed`"
   ]
  },
  {
   "cell_type": "code",
   "execution_count": 32,
   "id": "b72fa370",
   "metadata": {},
   "outputs": [],
   "source": [
    "rides_df['speed'] = (rides_df['distance'] / rides_df['duration']) * (60 / 1000)"
   ]
  },
  {
   "cell_type": "markdown",
   "id": "3bfac447",
   "metadata": {},
   "source": [
    "Возьмём выборку поезок менее 1500м"
   ]
  },
  {
   "cell_type": "code",
   "execution_count": 33,
   "id": "6f21f619",
   "metadata": {},
   "outputs": [
    {
     "data": {
      "text/html": [
       "<div>\n",
       "<style scoped>\n",
       "    .dataframe tbody tr th:only-of-type {\n",
       "        vertical-align: middle;\n",
       "    }\n",
       "\n",
       "    .dataframe tbody tr th {\n",
       "        vertical-align: top;\n",
       "    }\n",
       "\n",
       "    .dataframe thead th {\n",
       "        text-align: right;\n",
       "    }\n",
       "</style>\n",
       "<table border=\"1\" class=\"dataframe\">\n",
       "  <thead>\n",
       "    <tr style=\"text-align: right;\">\n",
       "      <th></th>\n",
       "      <th>user_id</th>\n",
       "      <th>distance</th>\n",
       "      <th>duration</th>\n",
       "      <th>date</th>\n",
       "      <th>month</th>\n",
       "      <th>speed</th>\n",
       "    </tr>\n",
       "  </thead>\n",
       "  <tbody>\n",
       "    <tr>\n",
       "      <th>2</th>\n",
       "      <td>1</td>\n",
       "      <td>754.159807</td>\n",
       "      <td>6.232113</td>\n",
       "      <td>2021-04-20</td>\n",
       "      <td>4</td>\n",
       "      <td>7.260713</td>\n",
       "    </tr>\n",
       "    <tr>\n",
       "      <th>9</th>\n",
       "      <td>1</td>\n",
       "      <td>748.690645</td>\n",
       "      <td>15.041884</td>\n",
       "      <td>2021-11-22</td>\n",
       "      <td>11</td>\n",
       "      <td>2.986424</td>\n",
       "    </tr>\n",
       "    <tr>\n",
       "      <th>20</th>\n",
       "      <td>2</td>\n",
       "      <td>923.007439</td>\n",
       "      <td>6.914760</td>\n",
       "      <td>2021-08-03</td>\n",
       "      <td>8</td>\n",
       "      <td>8.009019</td>\n",
       "    </tr>\n",
       "    <tr>\n",
       "      <th>47</th>\n",
       "      <td>4</td>\n",
       "      <td>724.559572</td>\n",
       "      <td>11.811399</td>\n",
       "      <td>2021-11-14</td>\n",
       "      <td>11</td>\n",
       "      <td>3.680646</td>\n",
       "    </tr>\n",
       "    <tr>\n",
       "      <th>91</th>\n",
       "      <td>9</td>\n",
       "      <td>979.657684</td>\n",
       "      <td>17.521497</td>\n",
       "      <td>2021-03-08</td>\n",
       "      <td>3</td>\n",
       "      <td>3.354705</td>\n",
       "    </tr>\n",
       "    <tr>\n",
       "      <th>...</th>\n",
       "      <td>...</td>\n",
       "      <td>...</td>\n",
       "      <td>...</td>\n",
       "      <td>...</td>\n",
       "      <td>...</td>\n",
       "      <td>...</td>\n",
       "    </tr>\n",
       "    <tr>\n",
       "      <th>18031</th>\n",
       "      <td>1532</td>\n",
       "      <td>303.787850</td>\n",
       "      <td>7.792490</td>\n",
       "      <td>2021-05-21</td>\n",
       "      <td>5</td>\n",
       "      <td>2.339082</td>\n",
       "    </tr>\n",
       "    <tr>\n",
       "      <th>18037</th>\n",
       "      <td>1532</td>\n",
       "      <td>662.468186</td>\n",
       "      <td>9.528773</td>\n",
       "      <td>2021-11-18</td>\n",
       "      <td>11</td>\n",
       "      <td>4.171376</td>\n",
       "    </tr>\n",
       "    <tr>\n",
       "      <th>18043</th>\n",
       "      <td>1533</td>\n",
       "      <td>310.488247</td>\n",
       "      <td>10.642389</td>\n",
       "      <td>2021-02-21</td>\n",
       "      <td>2</td>\n",
       "      <td>1.750480</td>\n",
       "    </tr>\n",
       "    <tr>\n",
       "      <th>18049</th>\n",
       "      <td>1533</td>\n",
       "      <td>1034.998188</td>\n",
       "      <td>6.299996</td>\n",
       "      <td>2021-06-23</td>\n",
       "      <td>6</td>\n",
       "      <td>9.857132</td>\n",
       "    </tr>\n",
       "    <tr>\n",
       "      <th>18058</th>\n",
       "      <td>1534</td>\n",
       "      <td>195.447469</td>\n",
       "      <td>6.469074</td>\n",
       "      <td>2021-06-11</td>\n",
       "      <td>6</td>\n",
       "      <td>1.812755</td>\n",
       "    </tr>\n",
       "  </tbody>\n",
       "</table>\n",
       "<p>1796 rows × 6 columns</p>\n",
       "</div>"
      ],
      "text/plain": [
       "       user_id     distance   duration       date  month     speed\n",
       "2            1   754.159807   6.232113 2021-04-20      4  7.260713\n",
       "9            1   748.690645  15.041884 2021-11-22     11  2.986424\n",
       "20           2   923.007439   6.914760 2021-08-03      8  8.009019\n",
       "47           4   724.559572  11.811399 2021-11-14     11  3.680646\n",
       "91           9   979.657684  17.521497 2021-03-08      3  3.354705\n",
       "...        ...          ...        ...        ...    ...       ...\n",
       "18031     1532   303.787850   7.792490 2021-05-21      5  2.339082\n",
       "18037     1532   662.468186   9.528773 2021-11-18     11  4.171376\n",
       "18043     1533   310.488247  10.642389 2021-02-21      2  1.750480\n",
       "18049     1533  1034.998188   6.299996 2021-06-23      6  9.857132\n",
       "18058     1534   195.447469   6.469074 2021-06-11      6  1.812755\n",
       "\n",
       "[1796 rows x 6 columns]"
      ]
     },
     "execution_count": 33,
     "metadata": {},
     "output_type": "execute_result"
    }
   ],
   "source": [
    "near_distance_df = rides_df[rides_df['distance'] < 1500]\n",
    "near_distance_df"
   ]
  },
  {
   "cell_type": "code",
   "execution_count": 34,
   "id": "641e4c0f",
   "metadata": {},
   "outputs": [
    {
     "data": {
      "image/png": "[encoded data removed]",
      "text/plain": [
       "<Figure size 720x360 with 1 Axes>"
      ]
     },
     "metadata": {
      "needs_background": "light"
     },
     "output_type": "display_data"
    }
   ],
   "source": [
    "near_distance_df['speed'].hist(bins=10, figsize=(10,5));\n",
    "plt.title('Распределение дальности поездки')\n",
    "plt.xlabel('дальность')\n",
    "plt.ylabel('частота')\n",
    "plt.show()"
   ]
  },
  {
   "cell_type": "markdown",
   "id": "7adb6af9",
   "metadata": {},
   "source": [
    "Опишем данные скорости для коротких поездок и для всего датафрейма"
   ]
  },
  {
   "cell_type": "code",
   "execution_count": 35,
   "id": "bc53dd7f",
   "metadata": {},
   "outputs": [
    {
     "data": {
      "text/plain": [
       "count    1796.000000\n",
       "mean        4.569765\n",
       "std         2.681076\n",
       "min         0.005133\n",
       "25%         2.635567\n",
       "50%         4.180627\n",
       "75%         6.117972\n",
       "max        16.351400\n",
       "Name: speed, dtype: float64"
      ]
     },
     "execution_count": 35,
     "metadata": {},
     "output_type": "execute_result"
    }
   ],
   "source": [
    "near_distance_df['speed'].describe()"
   ]
  },
  {
   "cell_type": "code",
   "execution_count": 36,
   "id": "0b3ea65f",
   "metadata": {},
   "outputs": [
    {
     "data": {
      "text/plain": [
       "count    18068.000000\n",
       "mean        13.785261\n",
       "std         44.156189\n",
       "min          0.005133\n",
       "25%          8.127843\n",
       "50%         10.251135\n",
       "75%         12.929800\n",
       "max        865.320929\n",
       "Name: speed, dtype: float64"
      ]
     },
     "execution_count": 36,
     "metadata": {},
     "output_type": "execute_result"
    }
   ],
   "source": [
    "rides_df['speed'].describe()"
   ]
  },
  {
   "cell_type": "markdown",
   "id": "b04d091f",
   "metadata": {},
   "source": [
    "Удалим столбец `speed`. Он больше не понадобится"
   ]
  },
  {
   "cell_type": "code",
   "execution_count": 37,
   "id": "f254ee96",
   "metadata": {},
   "outputs": [
    {
     "data": {
      "text/html": [
       "<div>\n",
       "<style scoped>\n",
       "    .dataframe tbody tr th:only-of-type {\n",
       "        vertical-align: middle;\n",
       "    }\n",
       "\n",
       "    .dataframe tbody tr th {\n",
       "        vertical-align: top;\n",
       "    }\n",
       "\n",
       "    .dataframe thead th {\n",
       "        text-align: right;\n",
       "    }\n",
       "</style>\n",
       "<table border=\"1\" class=\"dataframe\">\n",
       "  <thead>\n",
       "    <tr style=\"text-align: right;\">\n",
       "      <th></th>\n",
       "      <th>user_id</th>\n",
       "      <th>distance</th>\n",
       "      <th>duration</th>\n",
       "      <th>date</th>\n",
       "      <th>month</th>\n",
       "    </tr>\n",
       "  </thead>\n",
       "  <tbody>\n",
       "    <tr>\n",
       "      <th>0</th>\n",
       "      <td>1</td>\n",
       "      <td>4409.919140</td>\n",
       "      <td>25.599769</td>\n",
       "      <td>2021-01-01</td>\n",
       "      <td>1</td>\n",
       "    </tr>\n",
       "    <tr>\n",
       "      <th>1</th>\n",
       "      <td>1</td>\n",
       "      <td>2617.592153</td>\n",
       "      <td>15.816871</td>\n",
       "      <td>2021-01-18</td>\n",
       "      <td>1</td>\n",
       "    </tr>\n",
       "    <tr>\n",
       "      <th>2</th>\n",
       "      <td>1</td>\n",
       "      <td>754.159807</td>\n",
       "      <td>6.232113</td>\n",
       "      <td>2021-04-20</td>\n",
       "      <td>4</td>\n",
       "    </tr>\n",
       "    <tr>\n",
       "      <th>3</th>\n",
       "      <td>1</td>\n",
       "      <td>2694.783254</td>\n",
       "      <td>18.511000</td>\n",
       "      <td>2021-08-11</td>\n",
       "      <td>8</td>\n",
       "    </tr>\n",
       "    <tr>\n",
       "      <th>4</th>\n",
       "      <td>1</td>\n",
       "      <td>4028.687306</td>\n",
       "      <td>26.265803</td>\n",
       "      <td>2021-08-28</td>\n",
       "      <td>8</td>\n",
       "    </tr>\n",
       "    <tr>\n",
       "      <th>...</th>\n",
       "      <td>...</td>\n",
       "      <td>...</td>\n",
       "      <td>...</td>\n",
       "      <td>...</td>\n",
       "      <td>...</td>\n",
       "    </tr>\n",
       "    <tr>\n",
       "      <th>18063</th>\n",
       "      <td>1534</td>\n",
       "      <td>3781.098080</td>\n",
       "      <td>19.822962</td>\n",
       "      <td>2021-11-04</td>\n",
       "      <td>11</td>\n",
       "    </tr>\n",
       "    <tr>\n",
       "      <th>18064</th>\n",
       "      <td>1534</td>\n",
       "      <td>2840.423057</td>\n",
       "      <td>21.409799</td>\n",
       "      <td>2021-11-16</td>\n",
       "      <td>11</td>\n",
       "    </tr>\n",
       "    <tr>\n",
       "      <th>18065</th>\n",
       "      <td>1534</td>\n",
       "      <td>3826.185507</td>\n",
       "      <td>18.435051</td>\n",
       "      <td>2021-11-18</td>\n",
       "      <td>11</td>\n",
       "    </tr>\n",
       "    <tr>\n",
       "      <th>18066</th>\n",
       "      <td>1534</td>\n",
       "      <td>2902.308661</td>\n",
       "      <td>16.674362</td>\n",
       "      <td>2021-11-27</td>\n",
       "      <td>11</td>\n",
       "    </tr>\n",
       "    <tr>\n",
       "      <th>18067</th>\n",
       "      <td>1534</td>\n",
       "      <td>2371.711192</td>\n",
       "      <td>15.893917</td>\n",
       "      <td>2021-12-29</td>\n",
       "      <td>12</td>\n",
       "    </tr>\n",
       "  </tbody>\n",
       "</table>\n",
       "<p>18068 rows × 5 columns</p>\n",
       "</div>"
      ],
      "text/plain": [
       "       user_id     distance   duration       date  month\n",
       "0            1  4409.919140  25.599769 2021-01-01      1\n",
       "1            1  2617.592153  15.816871 2021-01-18      1\n",
       "2            1   754.159807   6.232113 2021-04-20      4\n",
       "3            1  2694.783254  18.511000 2021-08-11      8\n",
       "4            1  4028.687306  26.265803 2021-08-28      8\n",
       "...        ...          ...        ...        ...    ...\n",
       "18063     1534  3781.098080  19.822962 2021-11-04     11\n",
       "18064     1534  2840.423057  21.409799 2021-11-16     11\n",
       "18065     1534  3826.185507  18.435051 2021-11-18     11\n",
       "18066     1534  2902.308661  16.674362 2021-11-27     11\n",
       "18067     1534  2371.711192  15.893917 2021-12-29     12\n",
       "\n",
       "[18068 rows x 5 columns]"
      ]
     },
     "execution_count": 37,
     "metadata": {},
     "output_type": "execute_result"
    }
   ],
   "source": [
    "rides_df.drop('speed', axis=1)"
   ]
  },
  {
   "cell_type": "markdown",
   "id": "f3289631",
   "metadata": {},
   "source": [
    "**Вывод** При детальном рассмотрении пика на 800м увидели, что средняя скорость таких поездок около 4.5км/ч, медианная - 4.1км/ч, что медленней скорости пешехода. На всём датафрейме средняя скорость - 13км/ч. Вероятно такая дальность поездок связана с неисправностью самокатов. **Необходимо дополнительное исследование**"
   ]
  },
  {
   "cell_type": "markdown",
   "id": "f1047356",
   "metadata": {},
   "source": [
    "**Опишем и визуализируем продолжительность поездки**"
   ]
  },
  {
   "cell_type": "code",
   "execution_count": 38,
   "id": "1c3cd666",
   "metadata": {},
   "outputs": [
    {
     "data": {
      "text/plain": [
       "count    18068.000000\n",
       "mean        17.805011\n",
       "std          6.091051\n",
       "min          0.500000\n",
       "25%         13.597563\n",
       "50%         17.678395\n",
       "75%         21.724800\n",
       "max         40.823963\n",
       "Name: duration, dtype: float64"
      ]
     },
     "execution_count": 38,
     "metadata": {},
     "output_type": "execute_result"
    }
   ],
   "source": [
    "rides_df['duration'].describe()"
   ]
  },
  {
   "cell_type": "code",
   "execution_count": 39,
   "id": "dd11a0da",
   "metadata": {},
   "outputs": [
    {
     "data": {
      "image/png": "[encoded data removed]",
      "text/plain": [
       "<Figure size 720x360 with 1 Axes>"
      ]
     },
     "metadata": {
      "needs_background": "light"
     },
     "output_type": "display_data"
    }
   ],
   "source": [
    "rides_df['duration'].hist(bins=100, figsize=(10,5));\n",
    "plt.title('Распределение продолжительности поездки')\n",
    "plt.xlabel('продолжительность')\n",
    "plt.ylabel('частота')\n",
    "plt.show()"
   ]
  },
  {
   "cell_type": "code",
   "execution_count": 40,
   "id": "8f66b7a1",
   "metadata": {},
   "outputs": [
    {
     "data": {
      "image/png": "[encoded data removed]",
      "text/plain": [
       "<Figure size 720x360 with 1 Axes>"
      ]
     },
     "metadata": {
      "needs_background": "light"
     },
     "output_type": "display_data"
    }
   ],
   "source": [
    "rides_df['duration'].hist(bins=100, range=(0,5), figsize=(10,5));\n",
    "plt.title('Распределение продолжительности поездки в диапазоне до 5 мин')\n",
    "plt.xlabel('продолжительность')\n",
    "plt.ylabel('частота')\n",
    "plt.show()"
   ]
  },
  {
   "cell_type": "markdown",
   "id": "17f12970",
   "metadata": {},
   "source": [
    "Видим аномальный выброс значений менее 1мин. Удалим его"
   ]
  },
  {
   "cell_type": "code",
   "execution_count": 41,
   "id": "d2299515",
   "metadata": {},
   "outputs": [
    {
     "data": {
      "text/html": [
       "<div>\n",
       "<style scoped>\n",
       "    .dataframe tbody tr th:only-of-type {\n",
       "        vertical-align: middle;\n",
       "    }\n",
       "\n",
       "    .dataframe tbody tr th {\n",
       "        vertical-align: top;\n",
       "    }\n",
       "\n",
       "    .dataframe thead th {\n",
       "        text-align: right;\n",
       "    }\n",
       "</style>\n",
       "<table border=\"1\" class=\"dataframe\">\n",
       "  <thead>\n",
       "    <tr style=\"text-align: right;\">\n",
       "      <th></th>\n",
       "      <th>user_id</th>\n",
       "      <th>distance</th>\n",
       "      <th>duration</th>\n",
       "      <th>date</th>\n",
       "      <th>month</th>\n",
       "      <th>speed</th>\n",
       "    </tr>\n",
       "  </thead>\n",
       "  <tbody>\n",
       "    <tr>\n",
       "      <th>6531</th>\n",
       "      <td>701</td>\n",
       "      <td>4196.445201</td>\n",
       "      <td>0.5</td>\n",
       "      <td>2021-08-31</td>\n",
       "      <td>8</td>\n",
       "      <td>503.573424</td>\n",
       "    </tr>\n",
       "    <tr>\n",
       "      <th>6570</th>\n",
       "      <td>704</td>\n",
       "      <td>4830.824371</td>\n",
       "      <td>0.5</td>\n",
       "      <td>2021-10-14</td>\n",
       "      <td>10</td>\n",
       "      <td>579.698925</td>\n",
       "    </tr>\n",
       "    <tr>\n",
       "      <th>6680</th>\n",
       "      <td>712</td>\n",
       "      <td>4684.004397</td>\n",
       "      <td>0.5</td>\n",
       "      <td>2021-03-04</td>\n",
       "      <td>3</td>\n",
       "      <td>562.080528</td>\n",
       "    </tr>\n",
       "    <tr>\n",
       "      <th>6695</th>\n",
       "      <td>713</td>\n",
       "      <td>5215.642710</td>\n",
       "      <td>0.5</td>\n",
       "      <td>2021-02-25</td>\n",
       "      <td>2</td>\n",
       "      <td>625.877125</td>\n",
       "    </tr>\n",
       "    <tr>\n",
       "      <th>6768</th>\n",
       "      <td>718</td>\n",
       "      <td>5197.436649</td>\n",
       "      <td>0.5</td>\n",
       "      <td>2021-02-11</td>\n",
       "      <td>2</td>\n",
       "      <td>623.692398</td>\n",
       "    </tr>\n",
       "    <tr>\n",
       "      <th>...</th>\n",
       "      <td>...</td>\n",
       "      <td>...</td>\n",
       "      <td>...</td>\n",
       "      <td>...</td>\n",
       "      <td>...</td>\n",
       "      <td>...</td>\n",
       "    </tr>\n",
       "    <tr>\n",
       "      <th>17004</th>\n",
       "      <td>1460</td>\n",
       "      <td>5531.335845</td>\n",
       "      <td>0.5</td>\n",
       "      <td>2021-01-19</td>\n",
       "      <td>1</td>\n",
       "      <td>663.760301</td>\n",
       "    </tr>\n",
       "    <tr>\n",
       "      <th>17242</th>\n",
       "      <td>1477</td>\n",
       "      <td>6724.932981</td>\n",
       "      <td>0.5</td>\n",
       "      <td>2021-01-12</td>\n",
       "      <td>1</td>\n",
       "      <td>806.991958</td>\n",
       "    </tr>\n",
       "    <tr>\n",
       "      <th>17314</th>\n",
       "      <td>1483</td>\n",
       "      <td>4445.481070</td>\n",
       "      <td>0.5</td>\n",
       "      <td>2021-03-06</td>\n",
       "      <td>3</td>\n",
       "      <td>533.457728</td>\n",
       "    </tr>\n",
       "    <tr>\n",
       "      <th>17505</th>\n",
       "      <td>1496</td>\n",
       "      <td>5722.551787</td>\n",
       "      <td>0.5</td>\n",
       "      <td>2021-02-14</td>\n",
       "      <td>2</td>\n",
       "      <td>686.706214</td>\n",
       "    </tr>\n",
       "    <tr>\n",
       "      <th>17909</th>\n",
       "      <td>1524</td>\n",
       "      <td>4103.998874</td>\n",
       "      <td>0.5</td>\n",
       "      <td>2021-06-18</td>\n",
       "      <td>6</td>\n",
       "      <td>492.479865</td>\n",
       "    </tr>\n",
       "  </tbody>\n",
       "</table>\n",
       "<p>95 rows × 6 columns</p>\n",
       "</div>"
      ],
      "text/plain": [
       "       user_id     distance  duration       date  month       speed\n",
       "6531       701  4196.445201       0.5 2021-08-31      8  503.573424\n",
       "6570       704  4830.824371       0.5 2021-10-14     10  579.698925\n",
       "6680       712  4684.004397       0.5 2021-03-04      3  562.080528\n",
       "6695       713  5215.642710       0.5 2021-02-25      2  625.877125\n",
       "6768       718  5197.436649       0.5 2021-02-11      2  623.692398\n",
       "...        ...          ...       ...        ...    ...         ...\n",
       "17004     1460  5531.335845       0.5 2021-01-19      1  663.760301\n",
       "17242     1477  6724.932981       0.5 2021-01-12      1  806.991958\n",
       "17314     1483  4445.481070       0.5 2021-03-06      3  533.457728\n",
       "17505     1496  5722.551787       0.5 2021-02-14      2  686.706214\n",
       "17909     1524  4103.998874       0.5 2021-06-18      6  492.479865\n",
       "\n",
       "[95 rows x 6 columns]"
      ]
     },
     "execution_count": 41,
     "metadata": {},
     "output_type": "execute_result"
    }
   ],
   "source": [
    "rides_df[rides_df['duration'] < 1]"
   ]
  },
  {
   "cell_type": "code",
   "execution_count": 42,
   "id": "bd5ac961",
   "metadata": {},
   "outputs": [],
   "source": [
    "rides_df = rides_df[rides_df['duration'] > 1]"
   ]
  },
  {
   "cell_type": "code",
   "execution_count": 43,
   "id": "55139746",
   "metadata": {
    "scrolled": false
   },
   "outputs": [
    {
     "data": {
      "image/png": "[encoded data removed]",
      "text/plain": [
       "<Figure size 720x360 with 1 Axes>"
      ]
     },
     "metadata": {
      "needs_background": "light"
     },
     "output_type": "display_data"
    }
   ],
   "source": [
    "rides_df['duration'].hist(bins=100, figsize=(10,5));\n",
    "plt.title('Распределение продолжительности поездки')\n",
    "plt.xlabel('продолжительность')\n",
    "plt.ylabel('частота')\n",
    "plt.show()"
   ]
  },
  {
   "cell_type": "code",
   "execution_count": 44,
   "id": "580e1875",
   "metadata": {},
   "outputs": [
    {
     "data": {
      "text/plain": [
       "count    17973.000000\n",
       "mean        17.896480\n",
       "std          5.975424\n",
       "min          2.035632\n",
       "25%         13.670439\n",
       "50%         17.714122\n",
       "75%         21.747016\n",
       "max         40.823963\n",
       "Name: duration, dtype: float64"
      ]
     },
     "execution_count": 44,
     "metadata": {},
     "output_type": "execute_result"
    }
   ],
   "source": [
    "rides_df['duration'].describe()"
   ]
  },
  {
   "cell_type": "markdown",
   "id": "dda5d225",
   "metadata": {},
   "source": [
    "**Вывод** Средняя продолжительность поездки 17.9мин, медианное значение - 17.7мин. На этом этапе удалены записи с аномальными значениями. "
   ]
  },
  {
   "cell_type": "markdown",
   "id": "061858c2",
   "metadata": {},
   "source": [
    "**Выводы**\n",
    "* Больше всего пользователей в Пятигорске, Екатеринбурге и Ростове-на-Дону. Меньше - в Москве, Тюмени и Омске\n",
    "* пользователей с бесплатной подпиской немного больше.Их примерно 54.5% Платную подписку имеют 45.4% пользователей\n",
    "* Средний и медианный возраст пользователей - 25 лет\n",
    "* Среднее и медианное значение расстояния одной поездки ~3100м\n",
    "* Средняя продолжительность поездки 17.9мин, медианное значение - 17.7мин. \n",
    "* На этом этапе удалены записи с аномальными значениями"
   ]
  },
  {
   "cell_type": "markdown",
   "id": "4ef51331",
   "metadata": {},
   "source": [
    "#### Шаг 4. Объединение данных"
   ]
  },
  {
   "cell_type": "markdown",
   "id": "bfac23f9",
   "metadata": {},
   "source": [
    " Объединим данные о пользователях, поездках и подписках в один датафрейм."
   ]
  },
  {
   "cell_type": "code",
   "execution_count": 45,
   "id": "6bf288b5",
   "metadata": {},
   "outputs": [],
   "source": [
    "merge_df = rides_df.merge(users_df, on='user_id')"
   ]
  },
  {
   "cell_type": "code",
   "execution_count": 46,
   "id": "bd39a888",
   "metadata": {},
   "outputs": [],
   "source": [
    "merge_df = merge_df.merge(subscriptions_df, on='subscription_type')"
   ]
  },
  {
   "cell_type": "markdown",
   "id": "94fedb83",
   "metadata": {},
   "source": [
    "Изучим полученный датафрейм"
   ]
  },
  {
   "cell_type": "code",
   "execution_count": 47,
   "id": "53936cbe",
   "metadata": {},
   "outputs": [
    {
     "data": {
      "text/html": [
       "<div>\n",
       "<style scoped>\n",
       "    .dataframe tbody tr th:only-of-type {\n",
       "        vertical-align: middle;\n",
       "    }\n",
       "\n",
       "    .dataframe tbody tr th {\n",
       "        vertical-align: top;\n",
       "    }\n",
       "\n",
       "    .dataframe thead th {\n",
       "        text-align: right;\n",
       "    }\n",
       "</style>\n",
       "<table border=\"1\" class=\"dataframe\">\n",
       "  <thead>\n",
       "    <tr style=\"text-align: right;\">\n",
       "      <th></th>\n",
       "      <th>user_id</th>\n",
       "      <th>distance</th>\n",
       "      <th>duration</th>\n",
       "      <th>date</th>\n",
       "      <th>month</th>\n",
       "      <th>speed</th>\n",
       "      <th>name</th>\n",
       "      <th>age</th>\n",
       "      <th>city</th>\n",
       "      <th>subscription_type</th>\n",
       "      <th>minute_price</th>\n",
       "      <th>start_ride_price</th>\n",
       "      <th>subscription_fee</th>\n",
       "    </tr>\n",
       "  </thead>\n",
       "  <tbody>\n",
       "    <tr>\n",
       "      <th>0</th>\n",
       "      <td>1</td>\n",
       "      <td>4409.919140</td>\n",
       "      <td>25.599769</td>\n",
       "      <td>2021-01-01</td>\n",
       "      <td>1</td>\n",
       "      <td>10.335841</td>\n",
       "      <td>Кира</td>\n",
       "      <td>22</td>\n",
       "      <td>Тюмень</td>\n",
       "      <td>ultra</td>\n",
       "      <td>6</td>\n",
       "      <td>0</td>\n",
       "      <td>199</td>\n",
       "    </tr>\n",
       "    <tr>\n",
       "      <th>1</th>\n",
       "      <td>1</td>\n",
       "      <td>2617.592153</td>\n",
       "      <td>15.816871</td>\n",
       "      <td>2021-01-18</td>\n",
       "      <td>1</td>\n",
       "      <td>9.929620</td>\n",
       "      <td>Кира</td>\n",
       "      <td>22</td>\n",
       "      <td>Тюмень</td>\n",
       "      <td>ultra</td>\n",
       "      <td>6</td>\n",
       "      <td>0</td>\n",
       "      <td>199</td>\n",
       "    </tr>\n",
       "    <tr>\n",
       "      <th>2</th>\n",
       "      <td>1</td>\n",
       "      <td>754.159807</td>\n",
       "      <td>6.232113</td>\n",
       "      <td>2021-04-20</td>\n",
       "      <td>4</td>\n",
       "      <td>7.260713</td>\n",
       "      <td>Кира</td>\n",
       "      <td>22</td>\n",
       "      <td>Тюмень</td>\n",
       "      <td>ultra</td>\n",
       "      <td>6</td>\n",
       "      <td>0</td>\n",
       "      <td>199</td>\n",
       "    </tr>\n",
       "    <tr>\n",
       "      <th>3</th>\n",
       "      <td>1</td>\n",
       "      <td>2694.783254</td>\n",
       "      <td>18.511000</td>\n",
       "      <td>2021-08-11</td>\n",
       "      <td>8</td>\n",
       "      <td>8.734644</td>\n",
       "      <td>Кира</td>\n",
       "      <td>22</td>\n",
       "      <td>Тюмень</td>\n",
       "      <td>ultra</td>\n",
       "      <td>6</td>\n",
       "      <td>0</td>\n",
       "      <td>199</td>\n",
       "    </tr>\n",
       "    <tr>\n",
       "      <th>4</th>\n",
       "      <td>1</td>\n",
       "      <td>4028.687306</td>\n",
       "      <td>26.265803</td>\n",
       "      <td>2021-08-28</td>\n",
       "      <td>8</td>\n",
       "      <td>9.202888</td>\n",
       "      <td>Кира</td>\n",
       "      <td>22</td>\n",
       "      <td>Тюмень</td>\n",
       "      <td>ultra</td>\n",
       "      <td>6</td>\n",
       "      <td>0</td>\n",
       "      <td>199</td>\n",
       "    </tr>\n",
       "  </tbody>\n",
       "</table>\n",
       "</div>"
      ],
      "text/plain": [
       "   user_id     distance   duration       date  month      speed  name  age  \\\n",
       "0        1  4409.919140  25.599769 2021-01-01      1  10.335841  Кира   22   \n",
       "1        1  2617.592153  15.816871 2021-01-18      1   9.929620  Кира   22   \n",
       "2        1   754.159807   6.232113 2021-04-20      4   7.260713  Кира   22   \n",
       "3        1  2694.783254  18.511000 2021-08-11      8   8.734644  Кира   22   \n",
       "4        1  4028.687306  26.265803 2021-08-28      8   9.202888  Кира   22   \n",
       "\n",
       "     city subscription_type  minute_price  start_ride_price  subscription_fee  \n",
       "0  Тюмень             ultra             6                 0               199  \n",
       "1  Тюмень             ultra             6                 0               199  \n",
       "2  Тюмень             ultra             6                 0               199  \n",
       "3  Тюмень             ultra             6                 0               199  \n",
       "4  Тюмень             ultra             6                 0               199  "
      ]
     },
     "execution_count": 47,
     "metadata": {},
     "output_type": "execute_result"
    }
   ],
   "source": [
    "merge_df.head()"
   ]
  },
  {
   "cell_type": "code",
   "execution_count": 48,
   "id": "0833a455",
   "metadata": {},
   "outputs": [
    {
     "name": "stdout",
     "output_type": "stream",
     "text": [
      "<class 'pandas.core.frame.DataFrame'>\n",
      "Int64Index: 17973 entries, 0 to 18067\n",
      "Data columns (total 6 columns):\n",
      " #   Column    Non-Null Count  Dtype         \n",
      "---  ------    --------------  -----         \n",
      " 0   user_id   17973 non-null  int64         \n",
      " 1   distance  17973 non-null  float64       \n",
      " 2   duration  17973 non-null  float64       \n",
      " 3   date      17973 non-null  datetime64[ns]\n",
      " 4   month     17973 non-null  int64         \n",
      " 5   speed     17973 non-null  float64       \n",
      "dtypes: datetime64[ns](1), float64(3), int64(2)\n",
      "memory usage: 982.9 KB\n"
     ]
    }
   ],
   "source": [
    "rides_df.info()"
   ]
  },
  {
   "cell_type": "code",
   "execution_count": 49,
   "id": "7c00fe1f",
   "metadata": {
    "scrolled": true
   },
   "outputs": [
    {
     "name": "stdout",
     "output_type": "stream",
     "text": [
      "<class 'pandas.core.frame.DataFrame'>\n",
      "Int64Index: 17973 entries, 0 to 17972\n",
      "Data columns (total 13 columns):\n",
      " #   Column             Non-Null Count  Dtype         \n",
      "---  ------             --------------  -----         \n",
      " 0   user_id            17973 non-null  int64         \n",
      " 1   distance           17973 non-null  float64       \n",
      " 2   duration           17973 non-null  float64       \n",
      " 3   date               17973 non-null  datetime64[ns]\n",
      " 4   month              17973 non-null  int64         \n",
      " 5   speed              17973 non-null  float64       \n",
      " 6   name               17973 non-null  object        \n",
      " 7   age                17973 non-null  int64         \n",
      " 8   city               17973 non-null  object        \n",
      " 9   subscription_type  17973 non-null  object        \n",
      " 10  minute_price       17973 non-null  int64         \n",
      " 11  start_ride_price   17973 non-null  int64         \n",
      " 12  subscription_fee   17973 non-null  int64         \n",
      "dtypes: datetime64[ns](1), float64(3), int64(6), object(3)\n",
      "memory usage: 1.9+ MB\n"
     ]
    }
   ],
   "source": [
    "merge_df.info()"
   ]
  },
  {
   "cell_type": "markdown",
   "id": "dfffee1e",
   "metadata": {},
   "source": [
    "Длины начального датафрейма с поездками `rides_df` и нового датафрейма `merge_df` не отличаются. Склейка прошла успешно."
   ]
  },
  {
   "cell_type": "markdown",
   "id": "1f9e368e",
   "metadata": {},
   "source": [
    "Создадим отдельные датафреймы c данными о пользователях без подписки и с подпиской"
   ]
  },
  {
   "cell_type": "code",
   "execution_count": 50,
   "id": "bcae1178",
   "metadata": {},
   "outputs": [],
   "source": [
    "ultra_plan_users_df = merge_df[merge_df['subscription_type'] == 'ultra']"
   ]
  },
  {
   "cell_type": "code",
   "execution_count": 51,
   "id": "fbf46644",
   "metadata": {},
   "outputs": [],
   "source": [
    "free_plan_users_df = merge_df[merge_df['subscription_type'] == 'free']"
   ]
  },
  {
   "cell_type": "markdown",
   "id": "97a6c015",
   "metadata": {},
   "source": [
    "Выведем первые строки полученных датафреймов"
   ]
  },
  {
   "cell_type": "code",
   "execution_count": 52,
   "id": "a9319936",
   "metadata": {},
   "outputs": [
    {
     "data": {
      "text/html": [
       "<div>\n",
       "<style scoped>\n",
       "    .dataframe tbody tr th:only-of-type {\n",
       "        vertical-align: middle;\n",
       "    }\n",
       "\n",
       "    .dataframe tbody tr th {\n",
       "        vertical-align: top;\n",
       "    }\n",
       "\n",
       "    .dataframe thead th {\n",
       "        text-align: right;\n",
       "    }\n",
       "</style>\n",
       "<table border=\"1\" class=\"dataframe\">\n",
       "  <thead>\n",
       "    <tr style=\"text-align: right;\">\n",
       "      <th></th>\n",
       "      <th>user_id</th>\n",
       "      <th>distance</th>\n",
       "      <th>duration</th>\n",
       "      <th>date</th>\n",
       "      <th>month</th>\n",
       "      <th>speed</th>\n",
       "      <th>name</th>\n",
       "      <th>age</th>\n",
       "      <th>city</th>\n",
       "      <th>subscription_type</th>\n",
       "      <th>minute_price</th>\n",
       "      <th>start_ride_price</th>\n",
       "      <th>subscription_fee</th>\n",
       "    </tr>\n",
       "  </thead>\n",
       "  <tbody>\n",
       "    <tr>\n",
       "      <th>0</th>\n",
       "      <td>1</td>\n",
       "      <td>4409.919140</td>\n",
       "      <td>25.599769</td>\n",
       "      <td>2021-01-01</td>\n",
       "      <td>1</td>\n",
       "      <td>10.335841</td>\n",
       "      <td>Кира</td>\n",
       "      <td>22</td>\n",
       "      <td>Тюмень</td>\n",
       "      <td>ultra</td>\n",
       "      <td>6</td>\n",
       "      <td>0</td>\n",
       "      <td>199</td>\n",
       "    </tr>\n",
       "    <tr>\n",
       "      <th>1</th>\n",
       "      <td>1</td>\n",
       "      <td>2617.592153</td>\n",
       "      <td>15.816871</td>\n",
       "      <td>2021-01-18</td>\n",
       "      <td>1</td>\n",
       "      <td>9.929620</td>\n",
       "      <td>Кира</td>\n",
       "      <td>22</td>\n",
       "      <td>Тюмень</td>\n",
       "      <td>ultra</td>\n",
       "      <td>6</td>\n",
       "      <td>0</td>\n",
       "      <td>199</td>\n",
       "    </tr>\n",
       "    <tr>\n",
       "      <th>2</th>\n",
       "      <td>1</td>\n",
       "      <td>754.159807</td>\n",
       "      <td>6.232113</td>\n",
       "      <td>2021-04-20</td>\n",
       "      <td>4</td>\n",
       "      <td>7.260713</td>\n",
       "      <td>Кира</td>\n",
       "      <td>22</td>\n",
       "      <td>Тюмень</td>\n",
       "      <td>ultra</td>\n",
       "      <td>6</td>\n",
       "      <td>0</td>\n",
       "      <td>199</td>\n",
       "    </tr>\n",
       "    <tr>\n",
       "      <th>3</th>\n",
       "      <td>1</td>\n",
       "      <td>2694.783254</td>\n",
       "      <td>18.511000</td>\n",
       "      <td>2021-08-11</td>\n",
       "      <td>8</td>\n",
       "      <td>8.734644</td>\n",
       "      <td>Кира</td>\n",
       "      <td>22</td>\n",
       "      <td>Тюмень</td>\n",
       "      <td>ultra</td>\n",
       "      <td>6</td>\n",
       "      <td>0</td>\n",
       "      <td>199</td>\n",
       "    </tr>\n",
       "    <tr>\n",
       "      <th>4</th>\n",
       "      <td>1</td>\n",
       "      <td>4028.687306</td>\n",
       "      <td>26.265803</td>\n",
       "      <td>2021-08-28</td>\n",
       "      <td>8</td>\n",
       "      <td>9.202888</td>\n",
       "      <td>Кира</td>\n",
       "      <td>22</td>\n",
       "      <td>Тюмень</td>\n",
       "      <td>ultra</td>\n",
       "      <td>6</td>\n",
       "      <td>0</td>\n",
       "      <td>199</td>\n",
       "    </tr>\n",
       "  </tbody>\n",
       "</table>\n",
       "</div>"
      ],
      "text/plain": [
       "   user_id     distance   duration       date  month      speed  name  age  \\\n",
       "0        1  4409.919140  25.599769 2021-01-01      1  10.335841  Кира   22   \n",
       "1        1  2617.592153  15.816871 2021-01-18      1   9.929620  Кира   22   \n",
       "2        1   754.159807   6.232113 2021-04-20      4   7.260713  Кира   22   \n",
       "3        1  2694.783254  18.511000 2021-08-11      8   8.734644  Кира   22   \n",
       "4        1  4028.687306  26.265803 2021-08-28      8   9.202888  Кира   22   \n",
       "\n",
       "     city subscription_type  minute_price  start_ride_price  subscription_fee  \n",
       "0  Тюмень             ultra             6                 0               199  \n",
       "1  Тюмень             ultra             6                 0               199  \n",
       "2  Тюмень             ultra             6                 0               199  \n",
       "3  Тюмень             ultra             6                 0               199  \n",
       "4  Тюмень             ultra             6                 0               199  "
      ]
     },
     "execution_count": 52,
     "metadata": {},
     "output_type": "execute_result"
    }
   ],
   "source": [
    "ultra_plan_users_df.head()"
   ]
  },
  {
   "cell_type": "code",
   "execution_count": 53,
   "id": "477a5a03",
   "metadata": {
    "scrolled": true
   },
   "outputs": [
    {
     "data": {
      "text/html": [
       "<div>\n",
       "<style scoped>\n",
       "    .dataframe tbody tr th:only-of-type {\n",
       "        vertical-align: middle;\n",
       "    }\n",
       "\n",
       "    .dataframe tbody tr th {\n",
       "        vertical-align: top;\n",
       "    }\n",
       "\n",
       "    .dataframe thead th {\n",
       "        text-align: right;\n",
       "    }\n",
       "</style>\n",
       "<table border=\"1\" class=\"dataframe\">\n",
       "  <thead>\n",
       "    <tr style=\"text-align: right;\">\n",
       "      <th></th>\n",
       "      <th>user_id</th>\n",
       "      <th>distance</th>\n",
       "      <th>duration</th>\n",
       "      <th>date</th>\n",
       "      <th>month</th>\n",
       "      <th>speed</th>\n",
       "      <th>name</th>\n",
       "      <th>age</th>\n",
       "      <th>city</th>\n",
       "      <th>subscription_type</th>\n",
       "      <th>minute_price</th>\n",
       "      <th>start_ride_price</th>\n",
       "      <th>subscription_fee</th>\n",
       "    </tr>\n",
       "  </thead>\n",
       "  <tbody>\n",
       "    <tr>\n",
       "      <th>6500</th>\n",
       "      <td>700</td>\n",
       "      <td>2515.690719</td>\n",
       "      <td>14.944286</td>\n",
       "      <td>2021-01-02</td>\n",
       "      <td>1</td>\n",
       "      <td>10.100278</td>\n",
       "      <td>Айдар</td>\n",
       "      <td>22</td>\n",
       "      <td>Омск</td>\n",
       "      <td>free</td>\n",
       "      <td>8</td>\n",
       "      <td>50</td>\n",
       "      <td>0</td>\n",
       "    </tr>\n",
       "    <tr>\n",
       "      <th>6501</th>\n",
       "      <td>700</td>\n",
       "      <td>846.932642</td>\n",
       "      <td>16.234663</td>\n",
       "      <td>2021-02-01</td>\n",
       "      <td>2</td>\n",
       "      <td>3.130090</td>\n",
       "      <td>Айдар</td>\n",
       "      <td>22</td>\n",
       "      <td>Омск</td>\n",
       "      <td>free</td>\n",
       "      <td>8</td>\n",
       "      <td>50</td>\n",
       "      <td>0</td>\n",
       "    </tr>\n",
       "    <tr>\n",
       "      <th>6502</th>\n",
       "      <td>700</td>\n",
       "      <td>4004.434142</td>\n",
       "      <td>20.016628</td>\n",
       "      <td>2021-02-04</td>\n",
       "      <td>2</td>\n",
       "      <td>12.003323</td>\n",
       "      <td>Айдар</td>\n",
       "      <td>22</td>\n",
       "      <td>Омск</td>\n",
       "      <td>free</td>\n",
       "      <td>8</td>\n",
       "      <td>50</td>\n",
       "      <td>0</td>\n",
       "    </tr>\n",
       "    <tr>\n",
       "      <th>6503</th>\n",
       "      <td>700</td>\n",
       "      <td>1205.911290</td>\n",
       "      <td>9.782872</td>\n",
       "      <td>2021-02-10</td>\n",
       "      <td>2</td>\n",
       "      <td>7.396057</td>\n",
       "      <td>Айдар</td>\n",
       "      <td>22</td>\n",
       "      <td>Омск</td>\n",
       "      <td>free</td>\n",
       "      <td>8</td>\n",
       "      <td>50</td>\n",
       "      <td>0</td>\n",
       "    </tr>\n",
       "    <tr>\n",
       "      <th>6504</th>\n",
       "      <td>700</td>\n",
       "      <td>3047.379435</td>\n",
       "      <td>17.427673</td>\n",
       "      <td>2021-02-14</td>\n",
       "      <td>2</td>\n",
       "      <td>10.491519</td>\n",
       "      <td>Айдар</td>\n",
       "      <td>22</td>\n",
       "      <td>Омск</td>\n",
       "      <td>free</td>\n",
       "      <td>8</td>\n",
       "      <td>50</td>\n",
       "      <td>0</td>\n",
       "    </tr>\n",
       "  </tbody>\n",
       "</table>\n",
       "</div>"
      ],
      "text/plain": [
       "      user_id     distance   duration       date  month      speed   name  \\\n",
       "6500      700  2515.690719  14.944286 2021-01-02      1  10.100278  Айдар   \n",
       "6501      700   846.932642  16.234663 2021-02-01      2   3.130090  Айдар   \n",
       "6502      700  4004.434142  20.016628 2021-02-04      2  12.003323  Айдар   \n",
       "6503      700  1205.911290   9.782872 2021-02-10      2   7.396057  Айдар   \n",
       "6504      700  3047.379435  17.427673 2021-02-14      2  10.491519  Айдар   \n",
       "\n",
       "      age  city subscription_type  minute_price  start_ride_price  \\\n",
       "6500   22  Омск              free             8                50   \n",
       "6501   22  Омск              free             8                50   \n",
       "6502   22  Омск              free             8                50   \n",
       "6503   22  Омск              free             8                50   \n",
       "6504   22  Омск              free             8                50   \n",
       "\n",
       "      subscription_fee  \n",
       "6500                 0  \n",
       "6501                 0  \n",
       "6502                 0  \n",
       "6503                 0  \n",
       "6504                 0  "
      ]
     },
     "execution_count": 53,
     "metadata": {},
     "output_type": "execute_result"
    }
   ],
   "source": [
    "free_plan_users_df.head()"
   ]
  },
  {
   "cell_type": "markdown",
   "id": "37c6c06f",
   "metadata": {},
   "source": [
    "Визуализируем информацию о расстоянии и времени поездок для пользователей с подпиской."
   ]
  },
  {
   "cell_type": "code",
   "execution_count": 54,
   "id": "48c9c237",
   "metadata": {},
   "outputs": [
    {
     "data": {
      "image/png": "[encoded data removed]",
      "text/plain": [
       "<Figure size 720x360 with 1 Axes>"
      ]
     },
     "metadata": {
      "needs_background": "light"
     },
     "output_type": "display_data"
    }
   ],
   "source": [
    "ultra_plan_users_df['distance'].plot(kind='hist', bins=100, figsize=(10,5), label='с подпиской', alpha=0.5, legend=True);\n",
    "free_plan_users_df['distance'].plot(kind='hist', bins=100, figsize=(10,5), label='без подписки', alpha=0.5, legend=True);\n",
    "plt.title('Распределение дальности поездки')\n",
    "plt.xlabel('дальность')\n",
    "plt.ylabel('частота')\n",
    "plt.show()"
   ]
  },
  {
   "cell_type": "code",
   "execution_count": 55,
   "id": "99d830d3",
   "metadata": {},
   "outputs": [
    {
     "data": {
      "text/html": [
       "<div>\n",
       "<style scoped>\n",
       "    .dataframe tbody tr th:only-of-type {\n",
       "        vertical-align: middle;\n",
       "    }\n",
       "\n",
       "    .dataframe tbody tr th {\n",
       "        vertical-align: top;\n",
       "    }\n",
       "\n",
       "    .dataframe thead th {\n",
       "        text-align: right;\n",
       "    }\n",
       "</style>\n",
       "<table border=\"1\" class=\"dataframe\">\n",
       "  <thead>\n",
       "    <tr style=\"text-align: right;\">\n",
       "      <th></th>\n",
       "      <th>ultra</th>\n",
       "      <th>free</th>\n",
       "    </tr>\n",
       "  </thead>\n",
       "  <tbody>\n",
       "    <tr>\n",
       "      <th>count</th>\n",
       "      <td>6500.000000</td>\n",
       "      <td>11473.000000</td>\n",
       "    </tr>\n",
       "    <tr>\n",
       "      <th>mean</th>\n",
       "      <td>3115.445388</td>\n",
       "      <td>3028.374239</td>\n",
       "    </tr>\n",
       "    <tr>\n",
       "      <th>std</th>\n",
       "      <td>836.895330</td>\n",
       "      <td>1235.541051</td>\n",
       "    </tr>\n",
       "    <tr>\n",
       "      <th>min</th>\n",
       "      <td>244.210438</td>\n",
       "      <td>0.855683</td>\n",
       "    </tr>\n",
       "    <tr>\n",
       "      <th>25%</th>\n",
       "      <td>2785.444017</td>\n",
       "      <td>2360.878149</td>\n",
       "    </tr>\n",
       "    <tr>\n",
       "      <th>50%</th>\n",
       "      <td>3148.637229</td>\n",
       "      <td>3102.083025</td>\n",
       "    </tr>\n",
       "    <tr>\n",
       "      <th>75%</th>\n",
       "      <td>3560.574425</td>\n",
       "      <td>3883.979311</td>\n",
       "    </tr>\n",
       "    <tr>\n",
       "      <th>max</th>\n",
       "      <td>5699.769662</td>\n",
       "      <td>7066.003772</td>\n",
       "    </tr>\n",
       "  </tbody>\n",
       "</table>\n",
       "</div>"
      ],
      "text/plain": [
       "             ultra          free\n",
       "count  6500.000000  11473.000000\n",
       "mean   3115.445388   3028.374239\n",
       "std     836.895330   1235.541051\n",
       "min     244.210438      0.855683\n",
       "25%    2785.444017   2360.878149\n",
       "50%    3148.637229   3102.083025\n",
       "75%    3560.574425   3883.979311\n",
       "max    5699.769662   7066.003772"
      ]
     },
     "execution_count": 55,
     "metadata": {},
     "output_type": "execute_result"
    }
   ],
   "source": [
    "ultra_distance_describe = ultra_plan_users_df['distance'].describe()\n",
    "free_distance_describe = free_plan_users_df['distance'].describe()\n",
    "distance_describe = pd.concat([ultra_distance_describe, free_distance_describe], axis=1)\n",
    "distance_describe.columns = ['ultra', 'free']\n",
    "distance_describe"
   ]
  },
  {
   "cell_type": "code",
   "execution_count": 56,
   "id": "d942feb7",
   "metadata": {},
   "outputs": [
    {
     "data": {
      "image/png": "[encoded data removed]",
      "text/plain": [
       "<Figure size 720x360 with 1 Axes>"
      ]
     },
     "metadata": {
      "needs_background": "light"
     },
     "output_type": "display_data"
    }
   ],
   "source": [
    "ultra_plan_users_df['duration'].plot(kind='hist', bins=100, figsize=(10,5), label='с подпиской', alpha=0.5, legend=True);\n",
    "free_plan_users_df['duration'].plot(kind='hist', bins=100, figsize=(10,5), label='без подписки', alpha=0.5, legend=True);\n",
    "plt.title('Распределение продолжительности поездки')\n",
    "plt.xlabel('продолжительность')\n",
    "plt.ylabel('частота')\n",
    "plt.show()"
   ]
  },
  {
   "cell_type": "code",
   "execution_count": 57,
   "id": "ab032596",
   "metadata": {},
   "outputs": [
    {
     "data": {
      "text/html": [
       "<div>\n",
       "<style scoped>\n",
       "    .dataframe tbody tr th:only-of-type {\n",
       "        vertical-align: middle;\n",
       "    }\n",
       "\n",
       "    .dataframe tbody tr th {\n",
       "        vertical-align: top;\n",
       "    }\n",
       "\n",
       "    .dataframe thead th {\n",
       "        text-align: right;\n",
       "    }\n",
       "</style>\n",
       "<table border=\"1\" class=\"dataframe\">\n",
       "  <thead>\n",
       "    <tr style=\"text-align: right;\">\n",
       "      <th></th>\n",
       "      <th>ultra</th>\n",
       "      <th>free</th>\n",
       "    </tr>\n",
       "  </thead>\n",
       "  <tbody>\n",
       "    <tr>\n",
       "      <th>count</th>\n",
       "      <td>6500.000000</td>\n",
       "      <td>11473.000000</td>\n",
       "    </tr>\n",
       "    <tr>\n",
       "      <th>mean</th>\n",
       "      <td>18.541985</td>\n",
       "      <td>17.530771</td>\n",
       "    </tr>\n",
       "    <tr>\n",
       "      <th>std</th>\n",
       "      <td>5.572048</td>\n",
       "      <td>6.162609</td>\n",
       "    </tr>\n",
       "    <tr>\n",
       "      <th>min</th>\n",
       "      <td>3.760353</td>\n",
       "      <td>2.035632</td>\n",
       "    </tr>\n",
       "    <tr>\n",
       "      <th>25%</th>\n",
       "      <td>14.524654</td>\n",
       "      <td>13.085688</td>\n",
       "    </tr>\n",
       "    <tr>\n",
       "      <th>50%</th>\n",
       "      <td>18.178153</td>\n",
       "      <td>17.383807</td>\n",
       "    </tr>\n",
       "    <tr>\n",
       "      <th>75%</th>\n",
       "      <td>21.884129</td>\n",
       "      <td>21.638038</td>\n",
       "    </tr>\n",
       "    <tr>\n",
       "      <th>max</th>\n",
       "      <td>40.823963</td>\n",
       "      <td>34.948498</td>\n",
       "    </tr>\n",
       "  </tbody>\n",
       "</table>\n",
       "</div>"
      ],
      "text/plain": [
       "             ultra          free\n",
       "count  6500.000000  11473.000000\n",
       "mean     18.541985     17.530771\n",
       "std       5.572048      6.162609\n",
       "min       3.760353      2.035632\n",
       "25%      14.524654     13.085688\n",
       "50%      18.178153     17.383807\n",
       "75%      21.884129     21.638038\n",
       "max      40.823963     34.948498"
      ]
     },
     "execution_count": 57,
     "metadata": {},
     "output_type": "execute_result"
    }
   ],
   "source": [
    "ultra_duration_describe = ultra_plan_users_df['duration'].describe()\n",
    "free_duration_describe = free_plan_users_df['duration'].describe()\n",
    "duration_describe = pd.concat([ultra_duration_describe, free_duration_describe], axis=1)\n",
    "duration_describe.columns = ['ultra', 'free']\n",
    "duration_describe"
   ]
  },
  {
   "cell_type": "markdown",
   "id": "b2700e77",
   "metadata": {},
   "source": [
    "**Вывод** На этом этапе объединили данные о пользователях, поездках и подписках в один датафрейм, а потом на основе полученного датафрейм создали еще 2 с данными о пользователях с подпиской и без подписки\n",
    "\n",
    "По графикам и таблицам видно, что распределение продолжительности поездки для пользователей с подпиской и без подписки отличаются не сильно, но в целом продолжительность поездок у пользователей с подпиской больше\n",
    "* Медианное значение для пользователей с подпиской - 18.2мин, среднее - 18.5мин\n",
    "* Медианное значение для пользователей без подписки - 17.4 мин, среднее - 17.5 мин\n",
    "\n",
    "Графики распределения дальности поездок отличаются сильнее. Средние величины похожи, но у графика дальности поездок у пользователей без подписки купл значительно шире - стандартное отклонение больше\n",
    "* Медианное значение для пользователей с подпиской - 3148м, среднее - 3115м\n",
    "* Медианное значение для пользователей без подписки - 3102м, среднее - 3028м"
   ]
  },
  {
   "cell_type": "markdown",
   "id": "402d620f",
   "metadata": {},
   "source": [
    "#### Шаг 5. Подсчёт выручки"
   ]
  },
  {
   "cell_type": "markdown",
   "id": "bffb72db",
   "metadata": {},
   "source": [
    "Создадим датафрейм с агрегированными данными о поездках на основе датафрейма с объединёнными данными из шага 4: суммарное расстояние, количество поездок и суммарное время для каждого пользователя за каждый месяц."
   ]
  },
  {
   "cell_type": "code",
   "execution_count": 58,
   "id": "74ca7a44",
   "metadata": {},
   "outputs": [],
   "source": [
    "merge_df['duration'] = np.ceil(merge_df['duration']) \n",
    "merge_df['distance'] = merge_df['distance'].round(2)"
   ]
  },
  {
   "cell_type": "code",
   "execution_count": 59,
   "id": "549f16ab",
   "metadata": {},
   "outputs": [
    {
     "data": {
      "text/html": [
       "<div>\n",
       "<style scoped>\n",
       "    .dataframe tbody tr th:only-of-type {\n",
       "        vertical-align: middle;\n",
       "    }\n",
       "\n",
       "    .dataframe tbody tr th {\n",
       "        vertical-align: top;\n",
       "    }\n",
       "\n",
       "    .dataframe thead th {\n",
       "        text-align: right;\n",
       "    }\n",
       "</style>\n",
       "<table border=\"1\" class=\"dataframe\">\n",
       "  <thead>\n",
       "    <tr style=\"text-align: right;\">\n",
       "      <th></th>\n",
       "      <th></th>\n",
       "      <th>distance</th>\n",
       "      <th>duration</th>\n",
       "      <th>count</th>\n",
       "    </tr>\n",
       "    <tr>\n",
       "      <th>user_id</th>\n",
       "      <th>month</th>\n",
       "      <th></th>\n",
       "      <th></th>\n",
       "      <th></th>\n",
       "    </tr>\n",
       "  </thead>\n",
       "  <tbody>\n",
       "    <tr>\n",
       "      <th rowspan=\"5\" valign=\"top\">1</th>\n",
       "      <th>1</th>\n",
       "      <td>7027.51</td>\n",
       "      <td>42.0</td>\n",
       "      <td>2</td>\n",
       "    </tr>\n",
       "    <tr>\n",
       "      <th>4</th>\n",
       "      <td>754.16</td>\n",
       "      <td>7.0</td>\n",
       "      <td>1</td>\n",
       "    </tr>\n",
       "    <tr>\n",
       "      <th>8</th>\n",
       "      <td>6723.47</td>\n",
       "      <td>46.0</td>\n",
       "      <td>2</td>\n",
       "    </tr>\n",
       "    <tr>\n",
       "      <th>10</th>\n",
       "      <td>5809.91</td>\n",
       "      <td>32.0</td>\n",
       "      <td>2</td>\n",
       "    </tr>\n",
       "    <tr>\n",
       "      <th>11</th>\n",
       "      <td>7003.50</td>\n",
       "      <td>56.0</td>\n",
       "      <td>3</td>\n",
       "    </tr>\n",
       "    <tr>\n",
       "      <th>...</th>\n",
       "      <th>...</th>\n",
       "      <td>...</td>\n",
       "      <td>...</td>\n",
       "      <td>...</td>\n",
       "    </tr>\n",
       "    <tr>\n",
       "      <th rowspan=\"5\" valign=\"top\">1534</th>\n",
       "      <th>6</th>\n",
       "      <td>3409.47</td>\n",
       "      <td>26.0</td>\n",
       "      <td>2</td>\n",
       "    </tr>\n",
       "    <tr>\n",
       "      <th>8</th>\n",
       "      <td>7622.45</td>\n",
       "      <td>48.0</td>\n",
       "      <td>2</td>\n",
       "    </tr>\n",
       "    <tr>\n",
       "      <th>9</th>\n",
       "      <td>4928.17</td>\n",
       "      <td>23.0</td>\n",
       "      <td>1</td>\n",
       "    </tr>\n",
       "    <tr>\n",
       "      <th>11</th>\n",
       "      <td>13350.02</td>\n",
       "      <td>78.0</td>\n",
       "      <td>4</td>\n",
       "    </tr>\n",
       "    <tr>\n",
       "      <th>12</th>\n",
       "      <td>2371.71</td>\n",
       "      <td>16.0</td>\n",
       "      <td>1</td>\n",
       "    </tr>\n",
       "  </tbody>\n",
       "</table>\n",
       "<p>11300 rows × 3 columns</p>\n",
       "</div>"
      ],
      "text/plain": [
       "               distance  duration  count\n",
       "user_id month                           \n",
       "1       1       7027.51      42.0      2\n",
       "        4        754.16       7.0      1\n",
       "        8       6723.47      46.0      2\n",
       "        10      5809.91      32.0      2\n",
       "        11      7003.50      56.0      3\n",
       "...                 ...       ...    ...\n",
       "1534    6       3409.47      26.0      2\n",
       "        8       7622.45      48.0      2\n",
       "        9       4928.17      23.0      1\n",
       "        11     13350.02      78.0      4\n",
       "        12      2371.71      16.0      1\n",
       "\n",
       "[11300 rows x 3 columns]"
      ]
     },
     "execution_count": 59,
     "metadata": {},
     "output_type": "execute_result"
    }
   ],
   "source": [
    "user_pivot = merge_df.pivot_table(index=['user_id', 'month'], values=['distance', 'duration'], aggfunc=['sum', 'count'])\n",
    "user_pivot.columns = ['distance', 'duration','count', 'count1']\n",
    "del user_pivot['count1']\n",
    "user_pivot"
   ]
  },
  {
   "cell_type": "markdown",
   "id": "f3bd10c9",
   "metadata": {},
   "source": [
    "Добавим в эту сводную таблицу данные о тарифе пользователя"
   ]
  },
  {
   "cell_type": "code",
   "execution_count": 60,
   "id": "a274ae5c",
   "metadata": {},
   "outputs": [
    {
     "data": {
      "text/html": [
       "<div>\n",
       "<style scoped>\n",
       "    .dataframe tbody tr th:only-of-type {\n",
       "        vertical-align: middle;\n",
       "    }\n",
       "\n",
       "    .dataframe tbody tr th {\n",
       "        vertical-align: top;\n",
       "    }\n",
       "\n",
       "    .dataframe thead th {\n",
       "        text-align: right;\n",
       "    }\n",
       "</style>\n",
       "<table border=\"1\" class=\"dataframe\">\n",
       "  <thead>\n",
       "    <tr style=\"text-align: right;\">\n",
       "      <th></th>\n",
       "      <th></th>\n",
       "      <th>minute_price</th>\n",
       "      <th>start_ride_price</th>\n",
       "      <th>subscription_fee</th>\n",
       "    </tr>\n",
       "    <tr>\n",
       "      <th>user_id</th>\n",
       "      <th>month</th>\n",
       "      <th></th>\n",
       "      <th></th>\n",
       "      <th></th>\n",
       "    </tr>\n",
       "  </thead>\n",
       "  <tbody>\n",
       "    <tr>\n",
       "      <th rowspan=\"5\" valign=\"top\">1</th>\n",
       "      <th>1</th>\n",
       "      <td>6</td>\n",
       "      <td>0</td>\n",
       "      <td>199</td>\n",
       "    </tr>\n",
       "    <tr>\n",
       "      <th>4</th>\n",
       "      <td>6</td>\n",
       "      <td>0</td>\n",
       "      <td>199</td>\n",
       "    </tr>\n",
       "    <tr>\n",
       "      <th>8</th>\n",
       "      <td>6</td>\n",
       "      <td>0</td>\n",
       "      <td>199</td>\n",
       "    </tr>\n",
       "    <tr>\n",
       "      <th>10</th>\n",
       "      <td>6</td>\n",
       "      <td>0</td>\n",
       "      <td>199</td>\n",
       "    </tr>\n",
       "    <tr>\n",
       "      <th>11</th>\n",
       "      <td>6</td>\n",
       "      <td>0</td>\n",
       "      <td>199</td>\n",
       "    </tr>\n",
       "    <tr>\n",
       "      <th>...</th>\n",
       "      <th>...</th>\n",
       "      <td>...</td>\n",
       "      <td>...</td>\n",
       "      <td>...</td>\n",
       "    </tr>\n",
       "    <tr>\n",
       "      <th rowspan=\"5\" valign=\"top\">1534</th>\n",
       "      <th>6</th>\n",
       "      <td>8</td>\n",
       "      <td>50</td>\n",
       "      <td>0</td>\n",
       "    </tr>\n",
       "    <tr>\n",
       "      <th>8</th>\n",
       "      <td>8</td>\n",
       "      <td>50</td>\n",
       "      <td>0</td>\n",
       "    </tr>\n",
       "    <tr>\n",
       "      <th>9</th>\n",
       "      <td>8</td>\n",
       "      <td>50</td>\n",
       "      <td>0</td>\n",
       "    </tr>\n",
       "    <tr>\n",
       "      <th>11</th>\n",
       "      <td>8</td>\n",
       "      <td>50</td>\n",
       "      <td>0</td>\n",
       "    </tr>\n",
       "    <tr>\n",
       "      <th>12</th>\n",
       "      <td>8</td>\n",
       "      <td>50</td>\n",
       "      <td>0</td>\n",
       "    </tr>\n",
       "  </tbody>\n",
       "</table>\n",
       "<p>11300 rows × 3 columns</p>\n",
       "</div>"
      ],
      "text/plain": [
       "               minute_price  start_ride_price  subscription_fee\n",
       "user_id month                                                  \n",
       "1       1                 6                 0               199\n",
       "        4                 6                 0               199\n",
       "        8                 6                 0               199\n",
       "        10                6                 0               199\n",
       "        11                6                 0               199\n",
       "...                     ...               ...               ...\n",
       "1534    6                 8                50                 0\n",
       "        8                 8                50                 0\n",
       "        9                 8                50                 0\n",
       "        11                8                50                 0\n",
       "        12                8                50                 0\n",
       "\n",
       "[11300 rows x 3 columns]"
      ]
     },
     "execution_count": 60,
     "metadata": {},
     "output_type": "execute_result"
    }
   ],
   "source": [
    "user_plan_pivot = merge_df.pivot_table(index=['user_id', 'month'], values = ['minute_price','start_ride_price','subscription_fee'])\n",
    "user_plan_pivot"
   ]
  },
  {
   "cell_type": "code",
   "execution_count": 61,
   "id": "58f2237f",
   "metadata": {},
   "outputs": [
    {
     "data": {
      "text/html": [
       "<div>\n",
       "<style scoped>\n",
       "    .dataframe tbody tr th:only-of-type {\n",
       "        vertical-align: middle;\n",
       "    }\n",
       "\n",
       "    .dataframe tbody tr th {\n",
       "        vertical-align: top;\n",
       "    }\n",
       "\n",
       "    .dataframe thead th {\n",
       "        text-align: right;\n",
       "    }\n",
       "</style>\n",
       "<table border=\"1\" class=\"dataframe\">\n",
       "  <thead>\n",
       "    <tr style=\"text-align: right;\">\n",
       "      <th></th>\n",
       "      <th></th>\n",
       "      <th>distance</th>\n",
       "      <th>duration</th>\n",
       "      <th>count</th>\n",
       "      <th>minute_price</th>\n",
       "      <th>start_ride_price</th>\n",
       "      <th>subscription_fee</th>\n",
       "    </tr>\n",
       "    <tr>\n",
       "      <th>user_id</th>\n",
       "      <th>month</th>\n",
       "      <th></th>\n",
       "      <th></th>\n",
       "      <th></th>\n",
       "      <th></th>\n",
       "      <th></th>\n",
       "      <th></th>\n",
       "    </tr>\n",
       "  </thead>\n",
       "  <tbody>\n",
       "    <tr>\n",
       "      <th rowspan=\"5\" valign=\"top\">1</th>\n",
       "      <th>1</th>\n",
       "      <td>7027.51</td>\n",
       "      <td>42.0</td>\n",
       "      <td>2</td>\n",
       "      <td>6</td>\n",
       "      <td>0</td>\n",
       "      <td>199</td>\n",
       "    </tr>\n",
       "    <tr>\n",
       "      <th>4</th>\n",
       "      <td>754.16</td>\n",
       "      <td>7.0</td>\n",
       "      <td>1</td>\n",
       "      <td>6</td>\n",
       "      <td>0</td>\n",
       "      <td>199</td>\n",
       "    </tr>\n",
       "    <tr>\n",
       "      <th>8</th>\n",
       "      <td>6723.47</td>\n",
       "      <td>46.0</td>\n",
       "      <td>2</td>\n",
       "      <td>6</td>\n",
       "      <td>0</td>\n",
       "      <td>199</td>\n",
       "    </tr>\n",
       "    <tr>\n",
       "      <th>10</th>\n",
       "      <td>5809.91</td>\n",
       "      <td>32.0</td>\n",
       "      <td>2</td>\n",
       "      <td>6</td>\n",
       "      <td>0</td>\n",
       "      <td>199</td>\n",
       "    </tr>\n",
       "    <tr>\n",
       "      <th>11</th>\n",
       "      <td>7003.50</td>\n",
       "      <td>56.0</td>\n",
       "      <td>3</td>\n",
       "      <td>6</td>\n",
       "      <td>0</td>\n",
       "      <td>199</td>\n",
       "    </tr>\n",
       "    <tr>\n",
       "      <th>...</th>\n",
       "      <th>...</th>\n",
       "      <td>...</td>\n",
       "      <td>...</td>\n",
       "      <td>...</td>\n",
       "      <td>...</td>\n",
       "      <td>...</td>\n",
       "      <td>...</td>\n",
       "    </tr>\n",
       "    <tr>\n",
       "      <th rowspan=\"5\" valign=\"top\">1534</th>\n",
       "      <th>6</th>\n",
       "      <td>3409.47</td>\n",
       "      <td>26.0</td>\n",
       "      <td>2</td>\n",
       "      <td>8</td>\n",
       "      <td>50</td>\n",
       "      <td>0</td>\n",
       "    </tr>\n",
       "    <tr>\n",
       "      <th>8</th>\n",
       "      <td>7622.45</td>\n",
       "      <td>48.0</td>\n",
       "      <td>2</td>\n",
       "      <td>8</td>\n",
       "      <td>50</td>\n",
       "      <td>0</td>\n",
       "    </tr>\n",
       "    <tr>\n",
       "      <th>9</th>\n",
       "      <td>4928.17</td>\n",
       "      <td>23.0</td>\n",
       "      <td>1</td>\n",
       "      <td>8</td>\n",
       "      <td>50</td>\n",
       "      <td>0</td>\n",
       "    </tr>\n",
       "    <tr>\n",
       "      <th>11</th>\n",
       "      <td>13350.02</td>\n",
       "      <td>78.0</td>\n",
       "      <td>4</td>\n",
       "      <td>8</td>\n",
       "      <td>50</td>\n",
       "      <td>0</td>\n",
       "    </tr>\n",
       "    <tr>\n",
       "      <th>12</th>\n",
       "      <td>2371.71</td>\n",
       "      <td>16.0</td>\n",
       "      <td>1</td>\n",
       "      <td>8</td>\n",
       "      <td>50</td>\n",
       "      <td>0</td>\n",
       "    </tr>\n",
       "  </tbody>\n",
       "</table>\n",
       "<p>11300 rows × 6 columns</p>\n",
       "</div>"
      ],
      "text/plain": [
       "               distance  duration  count  minute_price  start_ride_price  \\\n",
       "user_id month                                                              \n",
       "1       1       7027.51      42.0      2             6                 0   \n",
       "        4        754.16       7.0      1             6                 0   \n",
       "        8       6723.47      46.0      2             6                 0   \n",
       "        10      5809.91      32.0      2             6                 0   \n",
       "        11      7003.50      56.0      3             6                 0   \n",
       "...                 ...       ...    ...           ...               ...   \n",
       "1534    6       3409.47      26.0      2             8                50   \n",
       "        8       7622.45      48.0      2             8                50   \n",
       "        9       4928.17      23.0      1             8                50   \n",
       "        11     13350.02      78.0      4             8                50   \n",
       "        12      2371.71      16.0      1             8                50   \n",
       "\n",
       "               subscription_fee  \n",
       "user_id month                    \n",
       "1       1                   199  \n",
       "        4                   199  \n",
       "        8                   199  \n",
       "        10                  199  \n",
       "        11                  199  \n",
       "...                         ...  \n",
       "1534    6                     0  \n",
       "        8                     0  \n",
       "        9                     0  \n",
       "        11                    0  \n",
       "        12                    0  \n",
       "\n",
       "[11300 rows x 6 columns]"
      ]
     },
     "execution_count": 61,
     "metadata": {},
     "output_type": "execute_result"
    }
   ],
   "source": [
    "user_pivot = user_pivot.merge(user_plan_pivot, on=['user_id', 'month'])\n",
    "user_pivot"
   ]
  },
  {
   "cell_type": "markdown",
   "id": "fdb505b3",
   "metadata": {},
   "source": [
    "Так же добавим в таблицу столбец с помесячной выручкой для каждого пользователя. Для этого сначала определим функцию"
   ]
  },
  {
   "cell_type": "code",
   "execution_count": 62,
   "id": "c463321c",
   "metadata": {},
   "outputs": [],
   "source": [
    "def calc_revenue(row):\n",
    "    return row['subscription_fee'] + (row['start_ride_price'] * row['count']) + (row['duration'] * row['minute_price'])"
   ]
  },
  {
   "cell_type": "code",
   "execution_count": 63,
   "id": "a6830de1",
   "metadata": {},
   "outputs": [
    {
     "data": {
      "text/html": [
       "<div>\n",
       "<style scoped>\n",
       "    .dataframe tbody tr th:only-of-type {\n",
       "        vertical-align: middle;\n",
       "    }\n",
       "\n",
       "    .dataframe tbody tr th {\n",
       "        vertical-align: top;\n",
       "    }\n",
       "\n",
       "    .dataframe thead th {\n",
       "        text-align: right;\n",
       "    }\n",
       "</style>\n",
       "<table border=\"1\" class=\"dataframe\">\n",
       "  <thead>\n",
       "    <tr style=\"text-align: right;\">\n",
       "      <th></th>\n",
       "      <th></th>\n",
       "      <th>distance</th>\n",
       "      <th>duration</th>\n",
       "      <th>count</th>\n",
       "      <th>minute_price</th>\n",
       "      <th>start_ride_price</th>\n",
       "      <th>subscription_fee</th>\n",
       "      <th>monthly_revenue</th>\n",
       "    </tr>\n",
       "    <tr>\n",
       "      <th>user_id</th>\n",
       "      <th>month</th>\n",
       "      <th></th>\n",
       "      <th></th>\n",
       "      <th></th>\n",
       "      <th></th>\n",
       "      <th></th>\n",
       "      <th></th>\n",
       "      <th></th>\n",
       "    </tr>\n",
       "  </thead>\n",
       "  <tbody>\n",
       "    <tr>\n",
       "      <th rowspan=\"5\" valign=\"top\">1</th>\n",
       "      <th>1</th>\n",
       "      <td>7027.51</td>\n",
       "      <td>42.0</td>\n",
       "      <td>2</td>\n",
       "      <td>6</td>\n",
       "      <td>0</td>\n",
       "      <td>199</td>\n",
       "      <td>451.0</td>\n",
       "    </tr>\n",
       "    <tr>\n",
       "      <th>4</th>\n",
       "      <td>754.16</td>\n",
       "      <td>7.0</td>\n",
       "      <td>1</td>\n",
       "      <td>6</td>\n",
       "      <td>0</td>\n",
       "      <td>199</td>\n",
       "      <td>241.0</td>\n",
       "    </tr>\n",
       "    <tr>\n",
       "      <th>8</th>\n",
       "      <td>6723.47</td>\n",
       "      <td>46.0</td>\n",
       "      <td>2</td>\n",
       "      <td>6</td>\n",
       "      <td>0</td>\n",
       "      <td>199</td>\n",
       "      <td>475.0</td>\n",
       "    </tr>\n",
       "    <tr>\n",
       "      <th>10</th>\n",
       "      <td>5809.91</td>\n",
       "      <td>32.0</td>\n",
       "      <td>2</td>\n",
       "      <td>6</td>\n",
       "      <td>0</td>\n",
       "      <td>199</td>\n",
       "      <td>391.0</td>\n",
       "    </tr>\n",
       "    <tr>\n",
       "      <th>11</th>\n",
       "      <td>7003.50</td>\n",
       "      <td>56.0</td>\n",
       "      <td>3</td>\n",
       "      <td>6</td>\n",
       "      <td>0</td>\n",
       "      <td>199</td>\n",
       "      <td>535.0</td>\n",
       "    </tr>\n",
       "    <tr>\n",
       "      <th>...</th>\n",
       "      <th>...</th>\n",
       "      <td>...</td>\n",
       "      <td>...</td>\n",
       "      <td>...</td>\n",
       "      <td>...</td>\n",
       "      <td>...</td>\n",
       "      <td>...</td>\n",
       "      <td>...</td>\n",
       "    </tr>\n",
       "    <tr>\n",
       "      <th rowspan=\"5\" valign=\"top\">1534</th>\n",
       "      <th>6</th>\n",
       "      <td>3409.47</td>\n",
       "      <td>26.0</td>\n",
       "      <td>2</td>\n",
       "      <td>8</td>\n",
       "      <td>50</td>\n",
       "      <td>0</td>\n",
       "      <td>308.0</td>\n",
       "    </tr>\n",
       "    <tr>\n",
       "      <th>8</th>\n",
       "      <td>7622.45</td>\n",
       "      <td>48.0</td>\n",
       "      <td>2</td>\n",
       "      <td>8</td>\n",
       "      <td>50</td>\n",
       "      <td>0</td>\n",
       "      <td>484.0</td>\n",
       "    </tr>\n",
       "    <tr>\n",
       "      <th>9</th>\n",
       "      <td>4928.17</td>\n",
       "      <td>23.0</td>\n",
       "      <td>1</td>\n",
       "      <td>8</td>\n",
       "      <td>50</td>\n",
       "      <td>0</td>\n",
       "      <td>234.0</td>\n",
       "    </tr>\n",
       "    <tr>\n",
       "      <th>11</th>\n",
       "      <td>13350.02</td>\n",
       "      <td>78.0</td>\n",
       "      <td>4</td>\n",
       "      <td>8</td>\n",
       "      <td>50</td>\n",
       "      <td>0</td>\n",
       "      <td>824.0</td>\n",
       "    </tr>\n",
       "    <tr>\n",
       "      <th>12</th>\n",
       "      <td>2371.71</td>\n",
       "      <td>16.0</td>\n",
       "      <td>1</td>\n",
       "      <td>8</td>\n",
       "      <td>50</td>\n",
       "      <td>0</td>\n",
       "      <td>178.0</td>\n",
       "    </tr>\n",
       "  </tbody>\n",
       "</table>\n",
       "<p>11300 rows × 7 columns</p>\n",
       "</div>"
      ],
      "text/plain": [
       "               distance  duration  count  minute_price  start_ride_price  \\\n",
       "user_id month                                                              \n",
       "1       1       7027.51      42.0      2             6                 0   \n",
       "        4        754.16       7.0      1             6                 0   \n",
       "        8       6723.47      46.0      2             6                 0   \n",
       "        10      5809.91      32.0      2             6                 0   \n",
       "        11      7003.50      56.0      3             6                 0   \n",
       "...                 ...       ...    ...           ...               ...   \n",
       "1534    6       3409.47      26.0      2             8                50   \n",
       "        8       7622.45      48.0      2             8                50   \n",
       "        9       4928.17      23.0      1             8                50   \n",
       "        11     13350.02      78.0      4             8                50   \n",
       "        12      2371.71      16.0      1             8                50   \n",
       "\n",
       "               subscription_fee  monthly_revenue  \n",
       "user_id month                                     \n",
       "1       1                   199            451.0  \n",
       "        4                   199            241.0  \n",
       "        8                   199            475.0  \n",
       "        10                  199            391.0  \n",
       "        11                  199            535.0  \n",
       "...                         ...              ...  \n",
       "1534    6                     0            308.0  \n",
       "        8                     0            484.0  \n",
       "        9                     0            234.0  \n",
       "        11                    0            824.0  \n",
       "        12                    0            178.0  \n",
       "\n",
       "[11300 rows x 7 columns]"
      ]
     },
     "execution_count": 63,
     "metadata": {},
     "output_type": "execute_result"
    }
   ],
   "source": [
    "user_pivot['monthly_revenue'] = user_pivot.apply(calc_revenue, axis=1)\n",
    "user_pivot"
   ]
  },
  {
   "cell_type": "markdown",
   "id": "359eb9b6",
   "metadata": {},
   "source": [
    "**Вывод** Создали сводный атафрейм с агрегированными данными о поездках: количестве, продолжительности и расстоянии за месяц. Так же в эту таблицу добавили столбец с помесячной выручкой, которую принёс каждый пользователь."
   ]
  },
  {
   "cell_type": "markdown",
   "id": "41545ac0",
   "metadata": {},
   "source": [
    "#### Шаг 6. Проверка гипотез"
   ]
  },
  {
   "cell_type": "markdown",
   "id": "442f2aaf",
   "metadata": {},
   "source": [
    "**Продолжительность поездок**\n",
    "\n",
    "Важно понять, тратят ли пользователи с подпиской больше времени на поездки? Если да, то пользователи с подпиской могут быть «выгоднее» для компании\n",
    "* Нулевая гипотеза: продолжительности поездок у пользователей с подпиской и без подписки равны. H0: $\\mu$1 = $\\mu$2\n",
    "* Альтенативная гипотеза: продолжительность поездок у пользователей с подпиской выше, чем у пользователй без подписки. H1: $\\mu$1 > $\\mu$2"
   ]
  },
  {
   "cell_type": "code",
   "execution_count": 64,
   "id": "9844d728",
   "metadata": {},
   "outputs": [
    {
     "name": "stdout",
     "output_type": "stream",
     "text": [
      "p-value: 4.704468074453899e-28\n",
      "Отвергаем нулевую гипотезу\n"
     ]
    }
   ],
   "source": [
    "alpha = 0.05\n",
    "results = st.ttest_ind(ultra_plan_users_df['duration'], free_plan_users_df['duration'], alternative='greater')\n",
    "print(f'p-value: {results.pvalue}')\n",
    "\n",
    "# проверяем p-value\n",
    "if results.pvalue < alpha:\n",
    "    print('Отвергаем нулевую гипотезу')\n",
    "else:\n",
    "    print('Нет оснований отвергнуть нулевую гипотезу')"
   ]
  },
  {
   "cell_type": "markdown",
   "id": "f3d7dcdb",
   "metadata": {},
   "source": [
    "**Вывод** Отвергаем нулевую гипотезу. Это значит, что **продолжительность поездок пользователей с подпиской и без подписки не равны**"
   ]
  },
  {
   "cell_type": "markdown",
   "id": "0ac9a98e",
   "metadata": {},
   "source": [
    "**Расстояние одной поездки**\n",
    "\n",
    "Можно ли сказать, что среднее расстояние, которое проезжают пользователи с подпиской за одну поездку, не превышает 3130 метров?\n",
    "\n",
    "* Нулевая гипотеза: расстояние одной поездки равно 3130м. H0: $\\mu$ = 3130\n",
    "* Альтенативная гипотеза: расстояние одной поездки меньше 3130м. H1: $\\mu$ > 3130"
   ]
  },
  {
   "cell_type": "code",
   "execution_count": 65,
   "id": "7a1fbb4d",
   "metadata": {},
   "outputs": [
    {
     "name": "stdout",
     "output_type": "stream",
     "text": [
      "p-value: 0.9195368847849785\n",
      "Нет оснований отвергнуть нулевую гипотезу\n"
     ]
    }
   ],
   "source": [
    "alpha = 0.05\n",
    "ref_value = 3130\n",
    "\n",
    "results = st.ttest_1samp(ultra_plan_users_df['distance'], ref_value, alternative='greater')\n",
    "print(f'p-value: {results.pvalue}')\n",
    "\n",
    "# проверяем p-value\n",
    "if results.pvalue < alpha:\n",
    "    print('Отвергаем нулевую гипотезу')\n",
    "else:\n",
    "    print('Нет оснований отвергнуть нулевую гипотезу')"
   ]
  },
  {
   "cell_type": "markdown",
   "id": "b7075c20",
   "metadata": {},
   "source": [
    "**Вывод** Оснований отвергать  нулевую теорию нет, т.к. полученное значение выше заданного уровня значимости. Это значит можно сказать, что **среднее расстояние, которое проезжают пользователи с подпиской за одну поездку, не превышает 3130 метров**"
   ]
  },
  {
   "cell_type": "markdown",
   "id": "7985d47a",
   "metadata": {},
   "source": [
    "**Помесячная выручка от пользователей**\n",
    "\n",
    "Будет ли помесячная выручка от пользователей с подпиской по месяцам выше, чем выручка от пользователей без подписки?\n",
    "\n",
    "* Нулевая гипотеза: помесячная выручка у пользователей с подпиской и без подписки равны. H0: $\\mu$1 = $\\mu$2\n",
    "* Альтенативная гипотеза: помесячная выручка у пользователей с подпиской выше, чем у пользователй без подписки. H1: $\\mu$1 > $\\mu$2"
   ]
  },
  {
   "cell_type": "code",
   "execution_count": 66,
   "id": "e29c23fe",
   "metadata": {},
   "outputs": [
    {
     "name": "stdout",
     "output_type": "stream",
     "text": [
      "p-value: 2.0314113674863288e-30\n",
      "Отвергаем нулевую гипотезу\n"
     ]
    }
   ],
   "source": [
    "# user_pivot\n",
    "alpha = 0.05\n",
    "results = st.ttest_ind(\n",
    "    user_pivot[user_pivot['subscription_fee'] != 0]['monthly_revenue'], \n",
    "    user_pivot[user_pivot['subscription_fee'] == 0]['monthly_revenue'], \n",
    "    alternative='greater'\n",
    ")\n",
    "print(f'p-value: {results.pvalue}')\n",
    "\n",
    "# проверяем p-value\n",
    "if results.pvalue < alpha:\n",
    "    print('Отвергаем нулевую гипотезу')\n",
    "else:\n",
    "    print('Нет оснований отвергнуть нулевую гипотезу')"
   ]
  },
  {
   "cell_type": "markdown",
   "id": "a4b3f3cf",
   "metadata": {},
   "source": [
    "**Вывод** Отвергаем нулевую гипотезу. Это значит, что **помесячная выручка от пользователей с подпиской выше,  чем от пользователей без  подписки**"
   ]
  },
  {
   "cell_type": "markdown",
   "id": "f28455ac",
   "metadata": {},
   "source": [
    "**Обновление сервера**\n",
    "\n",
    "Техническая команда сервиса обновила сервера, с которыми взаимодействует мобильное приложение. Она надеется, что из-за этого количество обращений в техподдержку значимо снизилось. Есть файл , содержащий для каждого пользователя данные о количестве обращений до обновления и после него. "
   ]
  },
  {
   "cell_type": "markdown",
   "id": "416d2974",
   "metadata": {},
   "source": [
    "Для провери этой гипотезы нам нужно провести тест о равенстве средних для зависимых (парных) выборок\n",
    "* Нулевая гипотеза: количество обращений не изменилось H0: $\\mu$1 = $\\mu$2\n",
    "* Альтенативная гипотеза: количество обращений после обновления снизилось H1: $\\mu$1 > $\\mu$2\n",
    "\n",
    "`results = st.ttest_rel(before, after, aternative='greater')`"
   ]
  },
  {
   "cell_type": "markdown",
   "id": "480dd48a",
   "metadata": {},
   "source": [
    "**Вывод** Проверили ряд гипотез со следующими выводами:\n",
    "* продолжительность поездок пользователей с подпиской и без подписки не равны\n",
    "* среднее расстояние, которое проезжают пользователи с подпиской за одну поездку, не превышает 3130 метров\n",
    "* помесячная выручка от пользователей с подпиской выше, чем от пользователей без подписки"
   ]
  },
  {
   "cell_type": "markdown",
   "id": "1f95ef7c",
   "metadata": {},
   "source": [
    "### Общий вывод "
   ]
  },
  {
   "cell_type": "markdown",
   "id": "2926a5d2",
   "metadata": {},
   "source": [
    "Были загружены 3 датафрейма с информацией о пользователях, их поездках и информацией о тарифных планах сервиса. Произведена предварительная обработка даных: в датафрейме `rides_df` столбец `date` привели к типу `date` и создадили новый столбец `month` с номером месяца. В датафрейме `users_df` удалили повторяющиеся записи, в остальных датафреймах дубликаты отсутствуют. В датафреймах пропущенные знаения отсутствуют. Удалены значения с аномальными значениями.\n",
    "\n",
    "Проведён исследовательский анализ данных со следующими выводами:\n",
    "* Больше всего пользователей в Пятигорске, Екатеринбурге и Ростове-на-Дону. Меньше - в Москве, Тюмени и Омске\n",
    "* Пользователей с бесплатной подпиской немного больше.Их примерно 54.5% Платную подписку имеют 45.4% пользователей\n",
    "* Средний и медианный возраст пользователей - 25 лет\n",
    "* Среднее и медианное значение расстояния одной поездки ~3100м\n",
    "* Средняя продолжительность поездки 17.9мин, медианное значение - 17.7мин.\n",
    "\n",
    "Объединили данные о пользователях, поездках и подписках в один датафрейм, а потом на основе полученного датафрейм создали еще 2 с данными о пользователях с подпиской и без подписки. На основе этих таблиц создали сводный датафрейм с агрегированными данными о поездках: количестве, продолжительности и расстоянии за месяц. Так же в эту таблицу добавили столбец с помесячной выручкой, которую принёс каждый пользователь.\n",
    "* Медианное значение продолжительности поездки для пользователей с подпиской - 18.2мин, среднее - 18.5мин\n",
    "* Медианное значение продолжительности поездки для пользователей без подписки - 17.4 мин, среднее - 17.5 мин\n",
    "* Медианное значение расстояния поездки для пользователей с подпиской - 3148м, среднее - 3115м\n",
    "* Медианное значение расстояния поездки для пользователей без подписки - 3102м, среднее - 3028м\n",
    "\n",
    "Проверили ряд гипотез со следующими выводами:\n",
    "* пользователи с подпиской тратят больше времени на поездки\n",
    "* среднее расстояние, которое проезжают пользователи с подпиской за одну поездку, не превышает 3130 метров\n",
    "* помесячная выручка от пользователей с подпиской выше, чем от пользователей без подписки"
   ]
  }
 ],
 "metadata": {
  "ExecuteTimeLog": [
   {
    "duration": 1209,
    "start_time": "2024-04-28T12:24:53.248Z"
   },
   {
    "duration": 157,
    "start_time": "2024-04-28T12:24:54.459Z"
   },
   {
    "duration": 115,
    "start_time": "2024-04-28T12:24:54.618Z"
   },
   {
    "duration": 211,
    "start_time": "2024-04-28T12:24:54.735Z"
   },
   {
    "duration": 14,
    "start_time": "2024-04-28T12:24:54.948Z"
   },
   {
    "duration": 22,
    "start_time": "2024-04-28T12:24:54.964Z"
   },
   {
    "duration": 31,
    "start_time": "2024-04-28T12:24:54.988Z"
   },
   {
    "duration": 22,
    "start_time": "2024-04-28T12:24:55.022Z"
   },
   {
    "duration": 34,
    "start_time": "2024-04-28T12:24:55.046Z"
   },
   {
    "duration": 26,
    "start_time": "2024-04-28T12:24:55.088Z"
   },
   {
    "duration": 20,
    "start_time": "2024-04-28T12:24:55.116Z"
   },
   {
    "duration": 36,
    "start_time": "2024-04-28T12:24:55.138Z"
   },
   {
    "duration": 31,
    "start_time": "2024-04-28T12:24:55.176Z"
   },
   {
    "duration": 35,
    "start_time": "2024-04-28T12:24:55.212Z"
   },
   {
    "duration": 12,
    "start_time": "2024-04-28T12:24:55.249Z"
   },
   {
    "duration": 28,
    "start_time": "2024-04-28T12:24:55.262Z"
   },
   {
    "duration": 25,
    "start_time": "2024-04-28T12:24:55.293Z"
   },
   {
    "duration": 6,
    "start_time": "2024-04-28T12:24:55.320Z"
   },
   {
    "duration": 9,
    "start_time": "2024-04-28T12:24:55.327Z"
   },
   {
    "duration": 23,
    "start_time": "2024-04-28T12:24:55.338Z"
   },
   {
    "duration": 19,
    "start_time": "2024-04-28T12:24:55.363Z"
   },
   {
    "duration": 10,
    "start_time": "2024-04-28T12:24:55.384Z"
   },
   {
    "duration": 39,
    "start_time": "2024-04-28T12:24:55.396Z"
   },
   {
    "duration": 184,
    "start_time": "2024-04-28T12:24:55.437Z"
   },
   {
    "duration": 9,
    "start_time": "2024-04-28T12:24:55.623Z"
   },
   {
    "duration": 96,
    "start_time": "2024-04-28T12:24:55.634Z"
   },
   {
    "duration": 12,
    "start_time": "2024-04-28T12:24:55.732Z"
   },
   {
    "duration": 326,
    "start_time": "2024-04-28T12:24:55.746Z"
   },
   {
    "duration": 23,
    "start_time": "2024-04-28T12:24:56.074Z"
   },
   {
    "duration": 39,
    "start_time": "2024-04-28T12:24:56.104Z"
   },
   {
    "duration": 377,
    "start_time": "2024-04-28T12:24:56.145Z"
   },
   {
    "duration": 10,
    "start_time": "2024-04-28T12:24:56.523Z"
   },
   {
    "duration": 373,
    "start_time": "2024-04-28T12:24:56.535Z"
   },
   {
    "duration": 280,
    "start_time": "2024-04-28T12:24:56.910Z"
   },
   {
    "duration": 20,
    "start_time": "2024-04-28T12:24:57.192Z"
   },
   {
    "duration": 23,
    "start_time": "2024-04-28T12:24:57.214Z"
   },
   {
    "duration": 406,
    "start_time": "2024-04-28T12:24:57.239Z"
   },
   {
    "duration": 10,
    "start_time": "2024-04-28T12:24:57.647Z"
   },
   {
    "duration": 25,
    "start_time": "2024-04-28T12:24:57.658Z"
   },
   {
    "duration": 15,
    "start_time": "2024-04-28T12:24:57.685Z"
   },
   {
    "duration": 24,
    "start_time": "2024-04-28T12:24:57.705Z"
   },
   {
    "duration": 84,
    "start_time": "2024-04-28T12:24:57.730Z"
   },
   {
    "duration": 24,
    "start_time": "2024-04-28T12:24:57.816Z"
   },
   {
    "duration": 13,
    "start_time": "2024-04-28T12:24:57.842Z"
   },
   {
    "duration": 17,
    "start_time": "2024-04-28T12:24:57.857Z"
   },
   {
    "duration": 31,
    "start_time": "2024-04-28T12:24:57.875Z"
   },
   {
    "duration": 296,
    "start_time": "2024-04-28T12:24:57.908Z"
   },
   {
    "duration": 314,
    "start_time": "2024-04-28T12:24:58.208Z"
   },
   {
    "duration": 333,
    "start_time": "2024-04-28T12:24:58.524Z"
   },
   {
    "duration": 47,
    "start_time": "2024-04-28T12:24:58.859Z"
   },
   {
    "duration": 22,
    "start_time": "2024-04-28T12:24:58.908Z"
   },
   {
    "duration": 22,
    "start_time": "2024-04-28T12:24:58.931Z"
   },
   {
    "duration": 3,
    "start_time": "2024-04-28T12:24:58.955Z"
   },
   {
    "duration": 277,
    "start_time": "2024-04-28T12:24:58.960Z"
   },
   {
    "duration": 6,
    "start_time": "2024-04-28T12:24:59.238Z"
   },
   {
    "duration": 5,
    "start_time": "2024-04-28T12:24:59.245Z"
   },
   {
    "duration": 20,
    "start_time": "2024-04-28T12:24:59.252Z"
   },
   {
    "duration": 22,
    "start_time": "2024-04-28T12:37:05.542Z"
   },
   {
    "duration": 20,
    "start_time": "2024-04-28T12:41:01.236Z"
   },
   {
    "duration": 1255,
    "start_time": "2024-04-28T12:54:10.294Z"
   },
   {
    "duration": 168,
    "start_time": "2024-04-28T12:54:11.552Z"
   },
   {
    "duration": 115,
    "start_time": "2024-04-28T12:54:11.721Z"
   },
   {
    "duration": 66,
    "start_time": "2024-04-28T12:54:11.838Z"
   },
   {
    "duration": 14,
    "start_time": "2024-04-28T12:54:11.905Z"
   },
   {
    "duration": 40,
    "start_time": "2024-04-28T12:54:11.920Z"
   },
   {
    "duration": 26,
    "start_time": "2024-04-28T12:54:11.961Z"
   },
   {
    "duration": 22,
    "start_time": "2024-04-28T12:54:11.988Z"
   },
   {
    "duration": 17,
    "start_time": "2024-04-28T12:54:12.012Z"
   },
   {
    "duration": 28,
    "start_time": "2024-04-28T12:54:12.031Z"
   },
   {
    "duration": 40,
    "start_time": "2024-04-28T12:54:12.061Z"
   },
   {
    "duration": 21,
    "start_time": "2024-04-28T12:54:12.102Z"
   },
   {
    "duration": 14,
    "start_time": "2024-04-28T12:54:12.125Z"
   },
   {
    "duration": 30,
    "start_time": "2024-04-28T12:54:12.140Z"
   },
   {
    "duration": 11,
    "start_time": "2024-04-28T12:54:12.172Z"
   },
   {
    "duration": 19,
    "start_time": "2024-04-28T12:54:12.185Z"
   },
   {
    "duration": 27,
    "start_time": "2024-04-28T12:54:12.206Z"
   },
   {
    "duration": 12,
    "start_time": "2024-04-28T12:54:12.235Z"
   },
   {
    "duration": 26,
    "start_time": "2024-04-28T12:54:12.249Z"
   },
   {
    "duration": 15,
    "start_time": "2024-04-28T12:54:12.276Z"
   },
   {
    "duration": 45,
    "start_time": "2024-04-28T12:54:12.293Z"
   },
   {
    "duration": 18,
    "start_time": "2024-04-28T12:54:12.339Z"
   },
   {
    "duration": 24,
    "start_time": "2024-04-28T12:54:12.358Z"
   },
   {
    "duration": 176,
    "start_time": "2024-04-28T12:54:12.384Z"
   },
   {
    "duration": 8,
    "start_time": "2024-04-28T12:54:12.562Z"
   },
   {
    "duration": 73,
    "start_time": "2024-04-28T12:54:12.572Z"
   },
   {
    "duration": 13,
    "start_time": "2024-04-28T12:54:12.646Z"
   },
   {
    "duration": 286,
    "start_time": "2024-04-28T12:54:12.662Z"
   },
   {
    "duration": 8,
    "start_time": "2024-04-28T12:54:12.950Z"
   },
   {
    "duration": 14,
    "start_time": "2024-04-28T12:54:12.959Z"
   },
   {
    "duration": 266,
    "start_time": "2024-04-28T12:54:12.975Z"
   },
   {
    "duration": 9,
    "start_time": "2024-04-28T12:54:13.243Z"
   },
   {
    "duration": 273,
    "start_time": "2024-04-28T12:54:13.253Z"
   },
   {
    "duration": 237,
    "start_time": "2024-04-28T12:54:13.528Z"
   },
   {
    "duration": 27,
    "start_time": "2024-04-28T12:54:13.766Z"
   },
   {
    "duration": 5,
    "start_time": "2024-04-28T12:54:13.795Z"
   },
   {
    "duration": 359,
    "start_time": "2024-04-28T12:54:13.801Z"
   },
   {
    "duration": 10,
    "start_time": "2024-04-28T12:54:14.162Z"
   },
   {
    "duration": 25,
    "start_time": "2024-04-28T12:54:14.174Z"
   },
   {
    "duration": 30,
    "start_time": "2024-04-28T12:54:14.201Z"
   },
   {
    "duration": 30,
    "start_time": "2024-04-28T12:54:14.233Z"
   },
   {
    "duration": 35,
    "start_time": "2024-04-28T12:54:14.264Z"
   },
   {
    "duration": 20,
    "start_time": "2024-04-28T12:54:14.300Z"
   },
   {
    "duration": 43,
    "start_time": "2024-04-28T12:54:14.321Z"
   },
   {
    "duration": 29,
    "start_time": "2024-04-28T12:54:14.366Z"
   },
   {
    "duration": 28,
    "start_time": "2024-04-28T12:54:14.397Z"
   },
   {
    "duration": 239,
    "start_time": "2024-04-28T12:54:14.426Z"
   },
   {
    "duration": 251,
    "start_time": "2024-04-28T12:54:14.667Z"
   },
   {
    "duration": 259,
    "start_time": "2024-04-28T12:54:14.919Z"
   },
   {
    "duration": 40,
    "start_time": "2024-04-28T12:54:15.179Z"
   },
   {
    "duration": 23,
    "start_time": "2024-04-28T12:54:15.221Z"
   },
   {
    "duration": 42,
    "start_time": "2024-04-28T12:54:15.245Z"
   },
   {
    "duration": 4,
    "start_time": "2024-04-28T12:54:15.289Z"
   },
   {
    "duration": 232,
    "start_time": "2024-04-28T12:54:15.294Z"
   },
   {
    "duration": 5,
    "start_time": "2024-04-28T12:54:15.528Z"
   },
   {
    "duration": 64,
    "start_time": "2024-04-28T12:54:15.534Z"
   },
   {
    "duration": 28,
    "start_time": "2024-04-28T12:54:15.600Z"
   },
   {
    "duration": 172,
    "start_time": "2024-04-28T14:14:08.296Z"
   },
   {
    "duration": 175,
    "start_time": "2024-04-28T14:14:18.017Z"
   },
   {
    "duration": 249,
    "start_time": "2024-04-28T14:17:02.459Z"
   },
   {
    "duration": 145,
    "start_time": "2024-04-28T14:17:20.460Z"
   },
   {
    "duration": 97,
    "start_time": "2024-04-28T14:18:03.195Z"
   },
   {
    "duration": 9,
    "start_time": "2024-04-28T14:18:26.366Z"
   },
   {
    "duration": 10,
    "start_time": "2024-04-28T14:18:45.540Z"
   },
   {
    "duration": 10,
    "start_time": "2024-04-28T14:18:52.482Z"
   },
   {
    "duration": 9,
    "start_time": "2024-04-28T14:19:07.372Z"
   },
   {
    "duration": 9,
    "start_time": "2024-04-28T14:19:13.811Z"
   },
   {
    "duration": 156,
    "start_time": "2024-04-28T14:19:27.191Z"
   },
   {
    "duration": 7,
    "start_time": "2024-04-28T14:19:35.731Z"
   },
   {
    "duration": 65,
    "start_time": "2024-04-28T14:19:37.781Z"
   },
   {
    "duration": 72,
    "start_time": "2024-04-28T14:19:44.346Z"
   },
   {
    "duration": 2,
    "start_time": "2024-04-28T14:19:58.116Z"
   },
   {
    "duration": 170,
    "start_time": "2024-04-28T14:19:58.120Z"
   },
   {
    "duration": 153,
    "start_time": "2024-04-28T14:19:58.292Z"
   },
   {
    "duration": 147,
    "start_time": "2024-04-28T14:19:58.446Z"
   },
   {
    "duration": 10,
    "start_time": "2024-04-28T14:19:58.595Z"
   },
   {
    "duration": 33,
    "start_time": "2024-04-28T14:19:58.607Z"
   },
   {
    "duration": 54,
    "start_time": "2024-04-28T14:19:58.642Z"
   },
   {
    "duration": 23,
    "start_time": "2024-04-28T14:19:58.697Z"
   },
   {
    "duration": 34,
    "start_time": "2024-04-28T14:19:58.722Z"
   },
   {
    "duration": 30,
    "start_time": "2024-04-28T14:19:58.757Z"
   },
   {
    "duration": 35,
    "start_time": "2024-04-28T14:19:58.790Z"
   },
   {
    "duration": 14,
    "start_time": "2024-04-28T14:19:58.826Z"
   },
   {
    "duration": 34,
    "start_time": "2024-04-28T14:19:58.841Z"
   },
   {
    "duration": 39,
    "start_time": "2024-04-28T14:19:58.877Z"
   },
   {
    "duration": 21,
    "start_time": "2024-04-28T14:19:58.918Z"
   },
   {
    "duration": 53,
    "start_time": "2024-04-28T14:19:58.941Z"
   },
   {
    "duration": 41,
    "start_time": "2024-04-28T14:19:58.996Z"
   },
   {
    "duration": 41,
    "start_time": "2024-04-28T14:19:59.038Z"
   },
   {
    "duration": 58,
    "start_time": "2024-04-28T14:19:59.081Z"
   },
   {
    "duration": 49,
    "start_time": "2024-04-28T14:19:59.140Z"
   },
   {
    "duration": 26,
    "start_time": "2024-04-28T14:19:59.191Z"
   },
   {
    "duration": 34,
    "start_time": "2024-04-28T14:19:59.219Z"
   },
   {
    "duration": 22,
    "start_time": "2024-04-28T14:19:59.255Z"
   },
   {
    "duration": 170,
    "start_time": "2024-04-28T14:19:59.279Z"
   },
   {
    "duration": 6,
    "start_time": "2024-04-28T14:19:59.451Z"
   },
   {
    "duration": 74,
    "start_time": "2024-04-28T14:20:03.355Z"
   },
   {
    "duration": 80,
    "start_time": "2024-04-28T14:20:43.297Z"
   },
   {
    "duration": 83,
    "start_time": "2024-04-28T14:21:12.415Z"
   },
   {
    "duration": 80,
    "start_time": "2024-04-28T14:21:19.525Z"
   },
   {
    "duration": 88,
    "start_time": "2024-04-28T14:21:28.580Z"
   },
   {
    "duration": 233,
    "start_time": "2024-04-28T14:23:08.765Z"
   },
   {
    "duration": 331,
    "start_time": "2024-04-28T14:24:03.053Z"
   },
   {
    "duration": 6,
    "start_time": "2024-04-28T14:32:53.539Z"
   },
   {
    "duration": 258,
    "start_time": "2024-04-28T14:33:17.506Z"
   },
   {
    "duration": 284,
    "start_time": "2024-04-28T14:34:06.826Z"
   },
   {
    "duration": 155,
    "start_time": "2024-04-28T14:34:17.787Z"
   },
   {
    "duration": 5,
    "start_time": "2024-04-28T14:35:49.413Z"
   },
   {
    "duration": 2938,
    "start_time": "2024-04-28T14:37:04.543Z"
   },
   {
    "duration": 5,
    "start_time": "2024-04-28T14:37:40.980Z"
   },
   {
    "duration": 14,
    "start_time": "2024-04-28T14:38:17.588Z"
   },
   {
    "duration": 8,
    "start_time": "2024-04-28T14:38:51.326Z"
   },
   {
    "duration": 16,
    "start_time": "2024-04-28T14:38:58.789Z"
   },
   {
    "duration": 11,
    "start_time": "2024-04-28T14:39:15.366Z"
   },
   {
    "duration": 1167,
    "start_time": "2024-04-28T14:39:22.591Z"
   },
   {
    "duration": 4,
    "start_time": "2024-04-28T14:40:54.689Z"
   },
   {
    "duration": 16,
    "start_time": "2024-04-28T14:40:59.049Z"
   },
   {
    "duration": 142,
    "start_time": "2024-04-28T14:41:11.680Z"
   },
   {
    "duration": 5,
    "start_time": "2024-04-28T14:42:12.347Z"
   },
   {
    "duration": 17,
    "start_time": "2024-04-28T14:42:13.665Z"
   },
   {
    "duration": 4,
    "start_time": "2024-04-28T14:42:24.258Z"
   },
   {
    "duration": 15,
    "start_time": "2024-04-28T14:42:26.471Z"
   },
   {
    "duration": 155,
    "start_time": "2024-04-28T14:42:32.414Z"
   },
   {
    "duration": 164,
    "start_time": "2024-04-28T14:43:11.719Z"
   },
   {
    "duration": 266,
    "start_time": "2024-04-28T14:43:17.743Z"
   },
   {
    "duration": 1561,
    "start_time": "2024-04-28T14:43:25.255Z"
   },
   {
    "duration": 154,
    "start_time": "2024-04-28T14:44:17.440Z"
   },
   {
    "duration": 8,
    "start_time": "2024-04-28T14:44:39.122Z"
   },
   {
    "duration": 9,
    "start_time": "2024-04-28T14:45:55.072Z"
   },
   {
    "duration": 17,
    "start_time": "2024-04-28T14:53:50.086Z"
   },
   {
    "duration": 5,
    "start_time": "2024-04-28T15:00:50.866Z"
   },
   {
    "duration": 23,
    "start_time": "2024-04-28T15:00:52.324Z"
   },
   {
    "duration": 158,
    "start_time": "2024-04-28T15:00:54.880Z"
   },
   {
    "duration": 8,
    "start_time": "2024-04-28T15:00:58.306Z"
   },
   {
    "duration": 9,
    "start_time": "2024-04-28T15:01:00.808Z"
   },
   {
    "duration": 3,
    "start_time": "2024-04-28T15:01:08.382Z"
   },
   {
    "duration": 15,
    "start_time": "2024-04-28T15:01:09.185Z"
   },
   {
    "duration": 161,
    "start_time": "2024-04-28T15:01:10.099Z"
   },
   {
    "duration": 9,
    "start_time": "2024-04-28T15:01:16.252Z"
   },
   {
    "duration": 9,
    "start_time": "2024-04-28T15:01:16.881Z"
   },
   {
    "duration": 11,
    "start_time": "2024-04-28T15:09:34.923Z"
   },
   {
    "duration": 3,
    "start_time": "2024-04-28T15:09:54.766Z"
   },
   {
    "duration": 118,
    "start_time": "2024-04-28T15:09:54.772Z"
   },
   {
    "duration": 114,
    "start_time": "2024-04-28T15:09:54.893Z"
   },
   {
    "duration": 78,
    "start_time": "2024-04-28T15:09:55.009Z"
   },
   {
    "duration": 23,
    "start_time": "2024-04-28T15:09:55.089Z"
   },
   {
    "duration": 41,
    "start_time": "2024-04-28T15:09:55.115Z"
   },
   {
    "duration": 54,
    "start_time": "2024-04-28T15:09:55.157Z"
   },
   {
    "duration": 30,
    "start_time": "2024-04-28T15:09:55.213Z"
   },
   {
    "duration": 33,
    "start_time": "2024-04-28T15:09:55.244Z"
   },
   {
    "duration": 19,
    "start_time": "2024-04-28T15:09:55.279Z"
   },
   {
    "duration": 26,
    "start_time": "2024-04-28T15:09:55.302Z"
   },
   {
    "duration": 59,
    "start_time": "2024-04-28T15:09:55.330Z"
   },
   {
    "duration": 35,
    "start_time": "2024-04-28T15:09:55.391Z"
   },
   {
    "duration": 47,
    "start_time": "2024-04-28T15:09:55.428Z"
   },
   {
    "duration": 12,
    "start_time": "2024-04-28T15:09:55.476Z"
   },
   {
    "duration": 15,
    "start_time": "2024-04-28T15:09:55.489Z"
   },
   {
    "duration": 24,
    "start_time": "2024-04-28T15:09:55.506Z"
   },
   {
    "duration": 28,
    "start_time": "2024-04-28T15:09:55.531Z"
   },
   {
    "duration": 16,
    "start_time": "2024-04-28T15:09:55.561Z"
   },
   {
    "duration": 6,
    "start_time": "2024-04-28T15:09:55.579Z"
   },
   {
    "duration": 20,
    "start_time": "2024-04-28T15:09:55.587Z"
   },
   {
    "duration": 8,
    "start_time": "2024-04-28T15:09:55.608Z"
   },
   {
    "duration": 43,
    "start_time": "2024-04-28T15:09:55.617Z"
   },
   {
    "duration": 164,
    "start_time": "2024-04-28T15:09:55.662Z"
   },
   {
    "duration": 7,
    "start_time": "2024-04-28T15:09:55.827Z"
   },
   {
    "duration": 117,
    "start_time": "2024-04-28T15:09:55.836Z"
   },
   {
    "duration": 13,
    "start_time": "2024-04-28T15:09:55.954Z"
   },
   {
    "duration": 280,
    "start_time": "2024-04-28T15:09:55.968Z"
   },
   {
    "duration": 8,
    "start_time": "2024-04-28T15:09:56.251Z"
   },
   {
    "duration": 9,
    "start_time": "2024-04-28T15:09:56.261Z"
   },
   {
    "duration": 292,
    "start_time": "2024-04-28T15:09:56.272Z"
   },
   {
    "duration": 5,
    "start_time": "2024-04-28T15:09:56.566Z"
   },
   {
    "duration": 35,
    "start_time": "2024-04-28T15:09:56.572Z"
   },
   {
    "duration": 171,
    "start_time": "2024-04-28T15:09:56.609Z"
   },
   {
    "duration": 13,
    "start_time": "2024-04-28T15:09:56.781Z"
   },
   {
    "duration": 14,
    "start_time": "2024-04-28T15:09:56.796Z"
   },
   {
    "duration": 14,
    "start_time": "2024-04-28T15:09:56.812Z"
   },
   {
    "duration": 37,
    "start_time": "2024-04-28T15:09:56.828Z"
   },
   {
    "duration": 480,
    "start_time": "2024-04-28T15:09:56.867Z"
   },
   {
    "duration": 295,
    "start_time": "2024-04-28T15:09:57.349Z"
   },
   {
    "duration": 17,
    "start_time": "2024-04-28T15:10:09.909Z"
   },
   {
    "duration": 4,
    "start_time": "2024-04-28T15:10:11.565Z"
   },
   {
    "duration": 280,
    "start_time": "2024-04-28T15:10:12.270Z"
   },
   {
    "duration": 10,
    "start_time": "2024-04-28T15:10:13.444Z"
   },
   {
    "duration": 10,
    "start_time": "2024-04-28T15:10:17.436Z"
   },
   {
    "duration": 14,
    "start_time": "2024-04-28T15:10:18.125Z"
   },
   {
    "duration": 14,
    "start_time": "2024-04-28T15:10:19.468Z"
   },
   {
    "duration": 11,
    "start_time": "2024-04-28T15:10:21.471Z"
   },
   {
    "duration": 18,
    "start_time": "2024-04-28T15:10:23.792Z"
   },
   {
    "duration": 396,
    "start_time": "2024-04-28T15:17:18.313Z"
   },
   {
    "duration": 433,
    "start_time": "2024-04-28T15:17:43.003Z"
   },
   {
    "duration": 571,
    "start_time": "2024-04-28T15:17:51.161Z"
   },
   {
    "duration": 428,
    "start_time": "2024-04-28T15:17:59.954Z"
   },
   {
    "duration": 404,
    "start_time": "2024-04-28T15:18:08.267Z"
   },
   {
    "duration": 278,
    "start_time": "2024-04-28T15:18:55.553Z"
   },
   {
    "duration": 545,
    "start_time": "2024-04-28T15:19:02.676Z"
   },
   {
    "duration": 411,
    "start_time": "2024-04-28T15:19:29.174Z"
   },
   {
    "duration": 442,
    "start_time": "2024-04-28T15:19:59.818Z"
   },
   {
    "duration": 467,
    "start_time": "2024-04-28T15:20:45.796Z"
   },
   {
    "duration": 437,
    "start_time": "2024-04-28T15:20:59.300Z"
   },
   {
    "duration": 110,
    "start_time": "2024-04-28T15:21:12.781Z"
   },
   {
    "duration": 464,
    "start_time": "2024-04-28T15:21:21.690Z"
   },
   {
    "duration": 367,
    "start_time": "2024-04-28T15:25:12.610Z"
   },
   {
    "duration": 584,
    "start_time": "2024-04-28T15:25:55.454Z"
   },
   {
    "duration": 480,
    "start_time": "2024-04-28T15:26:46.921Z"
   },
   {
    "duration": 406,
    "start_time": "2024-04-28T15:26:56.805Z"
   },
   {
    "duration": 398,
    "start_time": "2024-04-28T15:27:58.679Z"
   },
   {
    "duration": 558,
    "start_time": "2024-04-28T15:28:10.612Z"
   },
   {
    "duration": 440,
    "start_time": "2024-04-28T15:28:17.512Z"
   },
   {
    "duration": 386,
    "start_time": "2024-04-28T15:32:12.974Z"
   },
   {
    "duration": 519,
    "start_time": "2024-04-28T15:32:19.489Z"
   },
   {
    "duration": 452,
    "start_time": "2024-04-28T15:34:05.674Z"
   },
   {
    "duration": 438,
    "start_time": "2024-04-28T15:34:11.418Z"
   },
   {
    "duration": 518,
    "start_time": "2024-04-28T15:34:22.481Z"
   },
   {
    "duration": 630,
    "start_time": "2024-04-28T15:35:04.542Z"
   },
   {
    "duration": 323,
    "start_time": "2024-04-28T15:35:16.346Z"
   },
   {
    "duration": 527,
    "start_time": "2024-04-28T15:35:21.043Z"
   },
   {
    "duration": 311,
    "start_time": "2024-04-28T15:35:25.945Z"
   },
   {
    "duration": 620,
    "start_time": "2024-04-28T15:35:29.999Z"
   },
   {
    "duration": 12,
    "start_time": "2024-04-28T15:36:41.949Z"
   },
   {
    "duration": 24,
    "start_time": "2024-04-28T15:36:48.093Z"
   },
   {
    "duration": 584,
    "start_time": "2024-04-28T15:37:26.961Z"
   },
   {
    "duration": 545,
    "start_time": "2024-04-28T15:40:07.782Z"
   },
   {
    "duration": 469,
    "start_time": "2024-04-28T15:40:37.180Z"
   },
   {
    "duration": 12,
    "start_time": "2024-04-29T10:20:12.796Z"
   },
   {
    "duration": 10,
    "start_time": "2024-04-29T10:20:23.168Z"
   },
   {
    "duration": 9,
    "start_time": "2024-04-29T10:20:34.073Z"
   },
   {
    "duration": 8,
    "start_time": "2024-04-29T10:31:47.417Z"
   },
   {
    "duration": 10,
    "start_time": "2024-04-29T10:31:55.464Z"
   },
   {
    "duration": 16,
    "start_time": "2024-04-29T10:32:35.285Z"
   },
   {
    "duration": 15,
    "start_time": "2024-04-29T10:32:43.799Z"
   },
   {
    "duration": 19,
    "start_time": "2024-04-29T10:34:56.913Z"
   },
   {
    "duration": 9,
    "start_time": "2024-04-29T10:35:27.467Z"
   },
   {
    "duration": 15,
    "start_time": "2024-04-29T10:35:35.247Z"
   },
   {
    "duration": 10,
    "start_time": "2024-04-29T10:36:00.632Z"
   },
   {
    "duration": 14,
    "start_time": "2024-04-29T10:36:07.059Z"
   },
   {
    "duration": 15,
    "start_time": "2024-04-29T10:36:42.623Z"
   },
   {
    "duration": 16,
    "start_time": "2024-04-29T10:38:29.477Z"
   },
   {
    "duration": 445,
    "start_time": "2024-04-29T10:48:51.106Z"
   },
   {
    "duration": 615,
    "start_time": "2024-04-29T10:48:57.729Z"
   },
   {
    "duration": 22,
    "start_time": "2024-04-29T10:56:18.150Z"
   },
   {
    "duration": 4,
    "start_time": "2024-04-29T10:57:52.396Z"
   },
   {
    "duration": 23,
    "start_time": "2024-04-29T10:57:58.452Z"
   },
   {
    "duration": 4,
    "start_time": "2024-04-29T10:58:06.480Z"
   },
   {
    "duration": 40,
    "start_time": "2024-04-29T10:58:12.030Z"
   },
   {
    "duration": 3,
    "start_time": "2024-04-29T11:01:46.451Z"
   },
   {
    "duration": 141,
    "start_time": "2024-04-29T11:01:46.456Z"
   },
   {
    "duration": 158,
    "start_time": "2024-04-29T11:01:46.599Z"
   },
   {
    "duration": 122,
    "start_time": "2024-04-29T11:01:46.759Z"
   },
   {
    "duration": 11,
    "start_time": "2024-04-29T11:01:46.883Z"
   },
   {
    "duration": 34,
    "start_time": "2024-04-29T11:01:46.896Z"
   },
   {
    "duration": 28,
    "start_time": "2024-04-29T11:01:46.932Z"
   },
   {
    "duration": 37,
    "start_time": "2024-04-29T11:01:46.961Z"
   },
   {
    "duration": 21,
    "start_time": "2024-04-29T11:01:47.000Z"
   },
   {
    "duration": 23,
    "start_time": "2024-04-29T11:01:47.022Z"
   },
   {
    "duration": 10,
    "start_time": "2024-04-29T11:01:47.048Z"
   },
   {
    "duration": 10,
    "start_time": "2024-04-29T11:01:47.059Z"
   },
   {
    "duration": 16,
    "start_time": "2024-04-29T11:01:47.070Z"
   },
   {
    "duration": 34,
    "start_time": "2024-04-29T11:01:47.088Z"
   },
   {
    "duration": 7,
    "start_time": "2024-04-29T11:01:47.124Z"
   },
   {
    "duration": 12,
    "start_time": "2024-04-29T11:01:47.133Z"
   },
   {
    "duration": 16,
    "start_time": "2024-04-29T11:01:47.146Z"
   },
   {
    "duration": 8,
    "start_time": "2024-04-29T11:01:47.164Z"
   },
   {
    "duration": 10,
    "start_time": "2024-04-29T11:01:47.174Z"
   },
   {
    "duration": 12,
    "start_time": "2024-04-29T11:01:47.186Z"
   },
   {
    "duration": 27,
    "start_time": "2024-04-29T11:01:47.200Z"
   },
   {
    "duration": 9,
    "start_time": "2024-04-29T11:01:47.229Z"
   },
   {
    "duration": 22,
    "start_time": "2024-04-29T11:01:47.240Z"
   },
   {
    "duration": 175,
    "start_time": "2024-04-29T11:01:47.264Z"
   },
   {
    "duration": 7,
    "start_time": "2024-04-29T11:01:47.441Z"
   },
   {
    "duration": 96,
    "start_time": "2024-04-29T11:01:47.450Z"
   },
   {
    "duration": 13,
    "start_time": "2024-04-29T11:01:47.548Z"
   },
   {
    "duration": 277,
    "start_time": "2024-04-29T11:01:47.563Z"
   },
   {
    "duration": 8,
    "start_time": "2024-04-29T11:01:47.845Z"
   },
   {
    "duration": 15,
    "start_time": "2024-04-29T11:01:47.854Z"
   },
   {
    "duration": 288,
    "start_time": "2024-04-29T11:01:47.870Z"
   },
   {
    "duration": 4,
    "start_time": "2024-04-29T11:01:48.160Z"
   },
   {
    "duration": 34,
    "start_time": "2024-04-29T11:01:48.165Z"
   },
   {
    "duration": 158,
    "start_time": "2024-04-29T11:01:48.201Z"
   },
   {
    "duration": 9,
    "start_time": "2024-04-29T11:01:48.360Z"
   },
   {
    "duration": 22,
    "start_time": "2024-04-29T11:01:48.370Z"
   },
   {
    "duration": 14,
    "start_time": "2024-04-29T11:01:48.394Z"
   },
   {
    "duration": 11,
    "start_time": "2024-04-29T11:01:48.410Z"
   },
   {
    "duration": 366,
    "start_time": "2024-04-29T11:01:48.422Z"
   },
   {
    "duration": 245,
    "start_time": "2024-04-29T11:01:48.791Z"
   },
   {
    "duration": 23,
    "start_time": "2024-04-29T11:01:49.038Z"
   },
   {
    "duration": 16,
    "start_time": "2024-04-29T11:01:49.063Z"
   },
   {
    "duration": 279,
    "start_time": "2024-04-29T11:01:49.080Z"
   },
   {
    "duration": 10,
    "start_time": "2024-04-29T11:01:49.361Z"
   },
   {
    "duration": 33,
    "start_time": "2024-04-29T11:01:49.372Z"
   },
   {
    "duration": 17,
    "start_time": "2024-04-29T11:01:49.407Z"
   },
   {
    "duration": 17,
    "start_time": "2024-04-29T11:01:49.426Z"
   },
   {
    "duration": 21,
    "start_time": "2024-04-29T11:01:49.445Z"
   },
   {
    "duration": 14,
    "start_time": "2024-04-29T11:01:49.468Z"
   },
   {
    "duration": 8,
    "start_time": "2024-04-29T11:01:49.483Z"
   },
   {
    "duration": 11,
    "start_time": "2024-04-29T11:01:49.493Z"
   },
   {
    "duration": 13,
    "start_time": "2024-04-29T11:01:49.505Z"
   },
   {
    "duration": 31,
    "start_time": "2024-04-29T11:01:49.520Z"
   },
   {
    "duration": 513,
    "start_time": "2024-04-29T11:01:49.553Z"
   },
   {
    "duration": 24,
    "start_time": "2024-04-29T11:01:50.068Z"
   },
   {
    "duration": 585,
    "start_time": "2024-04-29T11:01:50.093Z"
   },
   {
    "duration": 19,
    "start_time": "2024-04-29T11:01:50.680Z"
   },
   {
    "duration": 4,
    "start_time": "2024-04-29T11:01:57.276Z"
   },
   {
    "duration": 21,
    "start_time": "2024-04-29T11:02:09.759Z"
   },
   {
    "duration": 33,
    "start_time": "2024-04-29T11:02:20.942Z"
   },
   {
    "duration": 23,
    "start_time": "2024-04-29T11:06:02.730Z"
   },
   {
    "duration": 27,
    "start_time": "2024-04-29T11:06:04.023Z"
   },
   {
    "duration": 3,
    "start_time": "2024-04-29T11:06:06.912Z"
   },
   {
    "duration": 216,
    "start_time": "2024-04-29T11:06:09.488Z"
   },
   {
    "duration": 8,
    "start_time": "2024-04-29T11:06:20.448Z"
   },
   {
    "duration": 6,
    "start_time": "2024-04-29T11:10:36.291Z"
   },
   {
    "duration": 3,
    "start_time": "2024-04-29T11:19:55.987Z"
   },
   {
    "duration": 146,
    "start_time": "2024-04-29T11:19:55.992Z"
   },
   {
    "duration": 119,
    "start_time": "2024-04-29T11:19:56.139Z"
   },
   {
    "duration": 87,
    "start_time": "2024-04-29T11:19:56.259Z"
   },
   {
    "duration": 9,
    "start_time": "2024-04-29T11:19:56.349Z"
   },
   {
    "duration": 75,
    "start_time": "2024-04-29T11:19:56.360Z"
   },
   {
    "duration": 34,
    "start_time": "2024-04-29T11:19:56.436Z"
   },
   {
    "duration": 28,
    "start_time": "2024-04-29T11:19:56.472Z"
   },
   {
    "duration": 11,
    "start_time": "2024-04-29T11:19:56.501Z"
   },
   {
    "duration": 22,
    "start_time": "2024-04-29T11:19:56.513Z"
   },
   {
    "duration": 30,
    "start_time": "2024-04-29T11:19:56.538Z"
   },
   {
    "duration": 18,
    "start_time": "2024-04-29T11:19:56.570Z"
   },
   {
    "duration": 23,
    "start_time": "2024-04-29T11:19:56.589Z"
   },
   {
    "duration": 15,
    "start_time": "2024-04-29T11:19:56.613Z"
   },
   {
    "duration": 11,
    "start_time": "2024-04-29T11:19:56.629Z"
   },
   {
    "duration": 25,
    "start_time": "2024-04-29T11:19:56.641Z"
   },
   {
    "duration": 14,
    "start_time": "2024-04-29T11:19:56.668Z"
   },
   {
    "duration": 23,
    "start_time": "2024-04-29T11:19:56.684Z"
   },
   {
    "duration": 9,
    "start_time": "2024-04-29T11:19:56.708Z"
   },
   {
    "duration": 35,
    "start_time": "2024-04-29T11:19:56.719Z"
   },
   {
    "duration": 27,
    "start_time": "2024-04-29T11:19:56.755Z"
   },
   {
    "duration": 28,
    "start_time": "2024-04-29T11:19:56.783Z"
   },
   {
    "duration": 12,
    "start_time": "2024-04-29T11:19:56.813Z"
   },
   {
    "duration": 160,
    "start_time": "2024-04-29T11:19:56.826Z"
   },
   {
    "duration": 14,
    "start_time": "2024-04-29T11:19:56.991Z"
   },
   {
    "duration": 86,
    "start_time": "2024-04-29T11:19:57.007Z"
   },
   {
    "duration": 17,
    "start_time": "2024-04-29T11:19:57.095Z"
   },
   {
    "duration": 271,
    "start_time": "2024-04-29T11:19:57.114Z"
   },
   {
    "duration": 11,
    "start_time": "2024-04-29T11:19:57.390Z"
   },
   {
    "duration": 15,
    "start_time": "2024-04-29T11:19:57.403Z"
   },
   {
    "duration": 302,
    "start_time": "2024-04-29T11:19:57.420Z"
   },
   {
    "duration": 4,
    "start_time": "2024-04-29T11:19:57.724Z"
   },
   {
    "duration": 47,
    "start_time": "2024-04-29T11:19:57.729Z"
   },
   {
    "duration": 168,
    "start_time": "2024-04-29T11:19:57.777Z"
   },
   {
    "duration": 8,
    "start_time": "2024-04-29T11:19:57.947Z"
   },
   {
    "duration": 21,
    "start_time": "2024-04-29T11:19:57.957Z"
   },
   {
    "duration": 31,
    "start_time": "2024-04-29T11:19:57.980Z"
   },
   {
    "duration": 22,
    "start_time": "2024-04-29T11:19:58.013Z"
   },
   {
    "duration": 388,
    "start_time": "2024-04-29T11:19:58.037Z"
   },
   {
    "duration": 242,
    "start_time": "2024-04-29T11:19:58.427Z"
   },
   {
    "duration": 33,
    "start_time": "2024-04-29T11:19:58.671Z"
   },
   {
    "duration": 19,
    "start_time": "2024-04-29T11:19:58.706Z"
   },
   {
    "duration": 257,
    "start_time": "2024-04-29T11:19:58.726Z"
   },
   {
    "duration": 10,
    "start_time": "2024-04-29T11:19:58.985Z"
   },
   {
    "duration": 27,
    "start_time": "2024-04-29T11:19:58.996Z"
   },
   {
    "duration": 12,
    "start_time": "2024-04-29T11:19:59.024Z"
   },
   {
    "duration": 20,
    "start_time": "2024-04-29T11:19:59.038Z"
   },
   {
    "duration": 25,
    "start_time": "2024-04-29T11:19:59.060Z"
   },
   {
    "duration": 28,
    "start_time": "2024-04-29T11:19:59.087Z"
   },
   {
    "duration": 13,
    "start_time": "2024-04-29T11:19:59.117Z"
   },
   {
    "duration": 18,
    "start_time": "2024-04-29T11:19:59.131Z"
   },
   {
    "duration": 17,
    "start_time": "2024-04-29T11:19:59.151Z"
   },
   {
    "duration": 20,
    "start_time": "2024-04-29T11:19:59.170Z"
   },
   {
    "duration": 574,
    "start_time": "2024-04-29T11:19:59.192Z"
   },
   {
    "duration": 15,
    "start_time": "2024-04-29T11:19:59.768Z"
   },
   {
    "duration": 568,
    "start_time": "2024-04-29T11:19:59.796Z"
   },
   {
    "duration": 16,
    "start_time": "2024-04-29T11:20:00.366Z"
   },
   {
    "duration": 73,
    "start_time": "2024-04-29T11:20:00.395Z"
   },
   {
    "duration": 67,
    "start_time": "2024-04-29T11:20:00.469Z"
   },
   {
    "duration": 79,
    "start_time": "2024-04-29T11:20:00.538Z"
   },
   {
    "duration": 88,
    "start_time": "2024-04-29T11:20:00.618Z"
   },
   {
    "duration": 3,
    "start_time": "2024-04-29T11:20:00.708Z"
   },
   {
    "duration": 416,
    "start_time": "2024-04-29T11:20:00.712Z"
   },
   {
    "duration": 5,
    "start_time": "2024-04-29T11:20:01.130Z"
   },
   {
    "duration": 130,
    "start_time": "2024-04-29T11:20:01.137Z"
   },
   {
    "duration": 135,
    "start_time": "2024-04-29T11:20:01.268Z"
   },
   {
    "duration": 284,
    "start_time": "2024-04-29T11:24:08.647Z"
   },
   {
    "duration": 4,
    "start_time": "2024-04-29T11:24:25.145Z"
   },
   {
    "duration": 112,
    "start_time": "2024-04-29T11:24:25.151Z"
   },
   {
    "duration": 104,
    "start_time": "2024-04-29T11:24:25.265Z"
   },
   {
    "duration": 87,
    "start_time": "2024-04-29T11:24:25.371Z"
   },
   {
    "duration": 10,
    "start_time": "2024-04-29T11:24:25.461Z"
   },
   {
    "duration": 15,
    "start_time": "2024-04-29T11:24:25.473Z"
   },
   {
    "duration": 28,
    "start_time": "2024-04-29T11:24:25.490Z"
   },
   {
    "duration": 25,
    "start_time": "2024-04-29T11:24:25.520Z"
   },
   {
    "duration": 30,
    "start_time": "2024-04-29T11:24:25.547Z"
   },
   {
    "duration": 34,
    "start_time": "2024-04-29T11:24:25.579Z"
   },
   {
    "duration": 9,
    "start_time": "2024-04-29T11:24:25.615Z"
   },
   {
    "duration": 15,
    "start_time": "2024-04-29T11:24:25.625Z"
   },
   {
    "duration": 19,
    "start_time": "2024-04-29T11:24:25.642Z"
   },
   {
    "duration": 9,
    "start_time": "2024-04-29T11:24:25.663Z"
   },
   {
    "duration": 8,
    "start_time": "2024-04-29T11:24:25.674Z"
   },
   {
    "duration": 18,
    "start_time": "2024-04-29T11:24:25.684Z"
   },
   {
    "duration": 23,
    "start_time": "2024-04-29T11:24:25.704Z"
   },
   {
    "duration": 9,
    "start_time": "2024-04-29T11:24:25.729Z"
   },
   {
    "duration": 10,
    "start_time": "2024-04-29T11:24:25.740Z"
   },
   {
    "duration": 7,
    "start_time": "2024-04-29T11:24:25.752Z"
   },
   {
    "duration": 24,
    "start_time": "2024-04-29T11:24:25.760Z"
   },
   {
    "duration": 13,
    "start_time": "2024-04-29T11:24:25.786Z"
   },
   {
    "duration": 6,
    "start_time": "2024-04-29T11:24:25.807Z"
   },
   {
    "duration": 156,
    "start_time": "2024-04-29T11:24:25.815Z"
   },
   {
    "duration": 8,
    "start_time": "2024-04-29T11:24:25.973Z"
   },
   {
    "duration": 102,
    "start_time": "2024-04-29T11:24:25.982Z"
   },
   {
    "duration": 22,
    "start_time": "2024-04-29T11:24:26.086Z"
   },
   {
    "duration": 296,
    "start_time": "2024-04-29T11:24:26.110Z"
   },
   {
    "duration": 9,
    "start_time": "2024-04-29T11:24:26.411Z"
   },
   {
    "duration": 25,
    "start_time": "2024-04-29T11:24:26.422Z"
   },
   {
    "duration": 298,
    "start_time": "2024-04-29T11:24:26.449Z"
   },
   {
    "duration": 5,
    "start_time": "2024-04-29T11:24:26.749Z"
   },
   {
    "duration": 42,
    "start_time": "2024-04-29T11:24:26.756Z"
   },
   {
    "duration": 164,
    "start_time": "2024-04-29T11:24:26.799Z"
   },
   {
    "duration": 7,
    "start_time": "2024-04-29T11:24:26.965Z"
   },
   {
    "duration": 39,
    "start_time": "2024-04-29T11:24:26.974Z"
   },
   {
    "duration": 15,
    "start_time": "2024-04-29T11:24:27.015Z"
   },
   {
    "duration": 24,
    "start_time": "2024-04-29T11:24:27.032Z"
   },
   {
    "duration": 382,
    "start_time": "2024-04-29T11:24:27.058Z"
   },
   {
    "duration": 256,
    "start_time": "2024-04-29T11:24:40.308Z"
   },
   {
    "duration": 16,
    "start_time": "2024-04-29T11:24:52.608Z"
   },
   {
    "duration": 5,
    "start_time": "2024-04-29T11:24:56.955Z"
   },
   {
    "duration": 311,
    "start_time": "2024-04-29T11:26:14.629Z"
   },
   {
    "duration": 9,
    "start_time": "2024-04-29T11:26:44.259Z"
   },
   {
    "duration": 9,
    "start_time": "2024-04-29T11:27:37.405Z"
   },
   {
    "duration": 9,
    "start_time": "2024-04-29T11:27:37.416Z"
   },
   {
    "duration": 21,
    "start_time": "2024-04-29T11:27:37.427Z"
   },
   {
    "duration": 32,
    "start_time": "2024-04-29T11:27:37.449Z"
   },
   {
    "duration": 21,
    "start_time": "2024-04-29T11:27:37.484Z"
   },
   {
    "duration": 7,
    "start_time": "2024-04-29T11:27:37.507Z"
   },
   {
    "duration": 5,
    "start_time": "2024-04-29T11:27:37.515Z"
   },
   {
    "duration": 17,
    "start_time": "2024-04-29T11:27:37.522Z"
   },
   {
    "duration": 18,
    "start_time": "2024-04-29T11:27:37.541Z"
   },
   {
    "duration": 537,
    "start_time": "2024-04-29T11:27:37.560Z"
   },
   {
    "duration": 19,
    "start_time": "2024-04-29T11:27:38.100Z"
   },
   {
    "duration": 525,
    "start_time": "2024-04-29T11:27:38.120Z"
   },
   {
    "duration": 14,
    "start_time": "2024-04-29T11:27:38.647Z"
   },
   {
    "duration": 3,
    "start_time": "2024-04-29T11:27:38.663Z"
   },
   {
    "duration": 50,
    "start_time": "2024-04-29T11:27:38.668Z"
   },
   {
    "duration": 20,
    "start_time": "2024-04-29T11:27:38.720Z"
   },
   {
    "duration": 22,
    "start_time": "2024-04-29T11:27:38.741Z"
   },
   {
    "duration": 3,
    "start_time": "2024-04-29T11:27:38.764Z"
   },
   {
    "duration": 350,
    "start_time": "2024-04-29T11:27:38.768Z"
   },
   {
    "duration": 6,
    "start_time": "2024-04-29T11:27:39.119Z"
   },
   {
    "duration": 26,
    "start_time": "2024-04-29T11:27:39.126Z"
   },
   {
    "duration": 12,
    "start_time": "2024-04-29T11:27:39.154Z"
   },
   {
    "duration": 1315,
    "start_time": "2024-04-30T08:18:17.747Z"
   },
   {
    "duration": 136,
    "start_time": "2024-04-30T08:18:19.065Z"
   },
   {
    "duration": 107,
    "start_time": "2024-04-30T08:18:19.202Z"
   },
   {
    "duration": 107,
    "start_time": "2024-04-30T08:18:19.312Z"
   },
   {
    "duration": 12,
    "start_time": "2024-04-30T08:18:19.421Z"
   },
   {
    "duration": 11,
    "start_time": "2024-04-30T08:18:19.435Z"
   },
   {
    "duration": 10,
    "start_time": "2024-04-30T08:18:19.448Z"
   },
   {
    "duration": 11,
    "start_time": "2024-04-30T08:18:19.460Z"
   },
   {
    "duration": 7,
    "start_time": "2024-04-30T08:18:19.472Z"
   },
   {
    "duration": 10,
    "start_time": "2024-04-30T08:18:19.481Z"
   },
   {
    "duration": 8,
    "start_time": "2024-04-30T08:18:19.492Z"
   },
   {
    "duration": 7,
    "start_time": "2024-04-30T08:18:19.501Z"
   },
   {
    "duration": 6,
    "start_time": "2024-04-30T08:18:19.510Z"
   },
   {
    "duration": 8,
    "start_time": "2024-04-30T08:18:19.517Z"
   },
   {
    "duration": 5,
    "start_time": "2024-04-30T08:18:19.562Z"
   },
   {
    "duration": 8,
    "start_time": "2024-04-30T08:18:19.569Z"
   },
   {
    "duration": 14,
    "start_time": "2024-04-30T08:18:19.579Z"
   },
   {
    "duration": 5,
    "start_time": "2024-04-30T08:18:19.595Z"
   },
   {
    "duration": 15,
    "start_time": "2024-04-30T08:18:19.602Z"
   },
   {
    "duration": 10,
    "start_time": "2024-04-30T08:18:19.619Z"
   },
   {
    "duration": 8,
    "start_time": "2024-04-30T08:18:19.631Z"
   },
   {
    "duration": 8,
    "start_time": "2024-04-30T08:18:19.661Z"
   },
   {
    "duration": 10,
    "start_time": "2024-04-30T08:18:19.671Z"
   },
   {
    "duration": 186,
    "start_time": "2024-04-30T08:18:19.682Z"
   },
   {
    "duration": 8,
    "start_time": "2024-04-30T08:18:19.870Z"
   },
   {
    "duration": 116,
    "start_time": "2024-04-30T08:18:19.879Z"
   },
   {
    "duration": 12,
    "start_time": "2024-04-30T08:18:19.997Z"
   },
   {
    "duration": 374,
    "start_time": "2024-04-30T08:18:20.014Z"
   },
   {
    "duration": 8,
    "start_time": "2024-04-30T08:18:20.389Z"
   },
   {
    "duration": 65,
    "start_time": "2024-04-30T08:18:20.399Z"
   },
   {
    "duration": 532,
    "start_time": "2024-04-30T08:18:20.465Z"
   },
   {
    "duration": 4,
    "start_time": "2024-04-30T08:18:20.999Z"
   },
   {
    "duration": 65,
    "start_time": "2024-04-30T08:18:21.005Z"
   },
   {
    "duration": 318,
    "start_time": "2024-04-30T08:18:21.071Z"
   },
   {
    "duration": 9,
    "start_time": "2024-04-30T08:18:21.390Z"
   },
   {
    "duration": 63,
    "start_time": "2024-04-30T08:18:21.401Z"
   },
   {
    "duration": 20,
    "start_time": "2024-04-30T08:18:21.466Z"
   },
   {
    "duration": 12,
    "start_time": "2024-04-30T08:18:21.488Z"
   },
   {
    "duration": 542,
    "start_time": "2024-04-30T08:18:21.502Z"
   },
   {
    "duration": 349,
    "start_time": "2024-04-30T08:18:22.045Z"
   },
   {
    "duration": 16,
    "start_time": "2024-04-30T08:18:22.396Z"
   },
   {
    "duration": 4,
    "start_time": "2024-04-30T08:18:22.414Z"
   },
   {
    "duration": 276,
    "start_time": "2024-04-30T08:18:22.419Z"
   },
   {
    "duration": 9,
    "start_time": "2024-04-30T08:18:22.696Z"
   },
   {
    "duration": 9,
    "start_time": "2024-04-30T08:18:22.707Z"
   },
   {
    "duration": 13,
    "start_time": "2024-04-30T08:18:22.717Z"
   },
   {
    "duration": 37,
    "start_time": "2024-04-30T08:18:22.731Z"
   },
   {
    "duration": 14,
    "start_time": "2024-04-30T08:18:22.770Z"
   },
   {
    "duration": 14,
    "start_time": "2024-04-30T08:18:22.786Z"
   },
   {
    "duration": 7,
    "start_time": "2024-04-30T08:18:22.802Z"
   },
   {
    "duration": 6,
    "start_time": "2024-04-30T08:18:22.810Z"
   },
   {
    "duration": 16,
    "start_time": "2024-04-30T08:18:22.817Z"
   },
   {
    "duration": 38,
    "start_time": "2024-04-30T08:18:22.835Z"
   },
   {
    "duration": 502,
    "start_time": "2024-04-30T08:18:22.875Z"
   },
   {
    "duration": 14,
    "start_time": "2024-04-30T08:18:23.379Z"
   },
   {
    "duration": 516,
    "start_time": "2024-04-30T08:18:23.395Z"
   },
   {
    "duration": 15,
    "start_time": "2024-04-30T08:18:23.912Z"
   },
   {
    "duration": 4,
    "start_time": "2024-04-30T08:18:23.929Z"
   },
   {
    "duration": 50,
    "start_time": "2024-04-30T08:18:23.935Z"
   },
   {
    "duration": 22,
    "start_time": "2024-04-30T08:18:23.986Z"
   },
   {
    "duration": 22,
    "start_time": "2024-04-30T08:18:24.010Z"
   },
   {
    "duration": 3,
    "start_time": "2024-04-30T08:18:24.034Z"
   },
   {
    "duration": 217,
    "start_time": "2024-04-30T08:18:24.061Z"
   },
   {
    "duration": 5,
    "start_time": "2024-04-30T08:18:24.280Z"
   },
   {
    "duration": 11,
    "start_time": "2024-04-30T08:18:24.287Z"
   },
   {
    "duration": 11,
    "start_time": "2024-04-30T08:18:24.299Z"
   }
  ],
  "kernelspec": {
   "display_name": "Python 3 (ipykernel)",
   "language": "python",
   "name": "python3"
  },
  "language_info": {
   "codemirror_mode": {
    "name": "ipython",
    "version": 3
   },
   "file_extension": ".py",
   "mimetype": "text/x-python",
   "name": "python",
   "nbconvert_exporter": "python",
   "pygments_lexer": "ipython3",
   "version": "3.11.5"
  },
  "toc": {
   "base_numbering": 1,
   "nav_menu": {},
   "number_sections": true,
   "sideBar": true,
   "skip_h1_title": true,
   "title_cell": "Table of Contents",
   "title_sidebar": "Contents",
   "toc_cell": false,
   "toc_position": {},
   "toc_section_display": true,
   "toc_window_display": true
  }
 },
 "nbformat": 4,
 "nbformat_minor": 5
}
